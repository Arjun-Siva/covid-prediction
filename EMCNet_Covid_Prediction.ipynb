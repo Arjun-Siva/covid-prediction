{
  "nbformat": 4,
  "nbformat_minor": 0,
  "metadata": {
    "accelerator": "GPU",
    "colab": {
      "name": "EMCNet - Covid Prediction.ipynb",
      "provenance": [],
      "collapsed_sections": [],
      "authorship_tag": "ABX9TyMkAsO+6kd/LhTcjomQGMUh"
    },
    "kernelspec": {
      "display_name": "Python 3",
      "name": "python3"
    },
    "language_info": {
      "name": "python"
    }
  },
  "cells": [
    {
      "cell_type": "markdown",
      "source": [
        "# Covid Diagnosis with Ensemble ML models"
      ],
      "metadata": {
        "id": "ClnK09AF1FQR"
      }
    },
    {
      "cell_type": "markdown",
      "source": [
        "## Data Collection"
      ],
      "metadata": {
        "id": "1v9kxw1Y1QS8"
      }
    },
    {
      "cell_type": "code",
      "metadata": {
        "colab": {
          "base_uri": "https://localhost:8080/"
        },
        "id": "5qY8ut4V21NA",
        "outputId": "571e27b1-b1c2-4e02-eac2-8004edc3504f"
      },
      "source": [
        "from google.colab import drive, files\n",
        "import os\n",
        "import itertools\n",
        "import shutil\n",
        "import random\n",
        "import glob\n",
        "import warnings\n",
        "warnings.simplefilter(action='ignore', category=FutureWarning)\n",
        "drive.mount('/content/drive')"
      ],
      "execution_count": 1,
      "outputs": [
        {
          "output_type": "stream",
          "name": "stdout",
          "text": [
            "Mounted at /content/drive\n"
          ]
        }
      ]
    },
    {
      "cell_type": "code",
      "metadata": {
        "id": "KZQchi4R29Mu"
      },
      "source": [
        "import pandas as pd\n",
        "import matplotlib.pyplot as plt\n",
        "import numpy as np\n",
        "from tensorflow.keras.models import Sequential\n",
        "from tensorflow.keras.layers import Activation, Dense, Flatten, Dropout, Conv2D, MaxPool2D\n",
        "from tensorflow.keras.optimizers import Adam\n",
        "from tensorflow.keras.metrics import categorical_crossentropy\n",
        "from tensorflow.keras.preprocessing.image import ImageDataGenerator\n",
        "from tensorflow.keras.preprocessing import image\n",
        "from tensorflow.keras.models import load_model\n",
        "from sklearn.metrics import classification_report, confusion_matrix, ConfusionMatrixDisplay"
      ],
      "execution_count": 2,
      "outputs": []
    },
    {
      "cell_type": "code",
      "metadata": {
        "id": "-BXTbjFHBwJq"
      },
      "source": [
        "os.environ['KAGGLE_CONFIG_DIR'] = \"/content/drive/MyDrive/Dataset\""
      ],
      "execution_count": null,
      "outputs": []
    },
    {
      "cell_type": "code",
      "metadata": {
        "id": "QntahDJU3M59"
      },
      "source": [
        "! cd /content/drive/MyDrive/Dataset/"
      ],
      "execution_count": null,
      "outputs": []
    },
    {
      "cell_type": "code",
      "metadata": {
        "id": "o_NtFUJwCFH8"
      },
      "source": [
        "! kaggle datasets download -d tawsifurrahman/covid19-radiography-database"
      ],
      "execution_count": null,
      "outputs": []
    },
    {
      "cell_type": "code",
      "metadata": {
        "id": "UFamzhzsJXJ1"
      },
      "source": [
        "! unzip covid19-radiography-database"
      ],
      "execution_count": null,
      "outputs": []
    },
    {
      "cell_type": "code",
      "metadata": {
        "id": "TAROCCNGJZbB"
      },
      "source": [
        "if os.path.isdir('data/train/covid') is False:\n",
        "  os.makedirs('data/train/normal')\n",
        "  os.makedirs('data/train/covid')\n",
        "  os.makedirs('data/test/normal')\n",
        "  os.makedirs('data/test/covid')\n",
        "  os.makedirs('data/valid/normal')\n",
        "  os.makedirs('data/valid/covid')"
      ],
      "execution_count": null,
      "outputs": []
    },
    {
      "cell_type": "code",
      "metadata": {
        "id": "fGuy5U3WKzZw"
      },
      "source": [
        "os.chdir('/content/drive/My Drive/Dataset/COVID-19_Radiography_Dataset/COVID')"
      ],
      "execution_count": null,
      "outputs": []
    },
    {
      "cell_type": "code",
      "metadata": {
        "id": "KXLILu5GK49H"
      },
      "source": [
        "for c in random.sample(glob.glob('COVID-*'), 2531):\n",
        "  shutil.move(c, '../../data/train/covid')\n",
        "\n",
        "for c in random.sample(glob.glob('COVID-*'), 723):\n",
        "  shutil.move(c, '../../data/valid/covid')\n",
        "\n",
        "for c in random.sample(glob.glob('COVID-*'), 362):\n",
        "  shutil.move(c, '../../data/test/covid')"
      ],
      "execution_count": null,
      "outputs": []
    },
    {
      "cell_type": "code",
      "metadata": {
        "id": "idjZ_Wy6MCgO"
      },
      "source": [
        "os.chdir('/content/drive/My Drive/Dataset/COVID-19_Radiography_Dataset/Normal')"
      ],
      "execution_count": null,
      "outputs": []
    },
    {
      "cell_type": "code",
      "metadata": {
        "id": "QWW_X3UZMDHu"
      },
      "source": [
        "for c in random.sample(glob.glob('Normal-*'), 2531):\n",
        "  shutil.move(c, '../../data/train/normal')\n",
        "\n",
        "for c in random.sample(glob.glob('Normal-*'), 723):\n",
        "  shutil.move(c, '../../data/valid/normal')\n",
        "\n",
        "for c in random.sample(glob.glob('Normal-*'), 362):\n",
        "  shutil.move(c, '../../data/test/normal')"
      ],
      "execution_count": null,
      "outputs": []
    },
    {
      "cell_type": "markdown",
      "source": [
        "## Convolutional Neural Network"
      ],
      "metadata": {
        "id": "cJBghPLj1mNG"
      }
    },
    {
      "cell_type": "code",
      "metadata": {
        "id": "1-d59WhWNyHq"
      },
      "source": [
        "os.chdir('/content/drive/My Drive/Dataset/')"
      ],
      "execution_count": 4,
      "outputs": []
    },
    {
      "cell_type": "code",
      "metadata": {
        "id": "CPLvL_ekOBZB"
      },
      "source": [
        "train_path = '/content/drive/My Drive/Dataset/data/train'\n",
        "valid_path = '/content/drive/My Drive/Dataset/data/valid'\n",
        "test_path =  '/content/drive/My Drive/Dataset/data/test'"
      ],
      "execution_count": null,
      "outputs": []
    },
    {
      "cell_type": "code",
      "metadata": {
        "colab": {
          "base_uri": "https://localhost:8080/"
        },
        "id": "UL1DWjCkORkD",
        "outputId": "5b3d573c-f9bf-48ba-df3e-9b1e92bac974"
      },
      "source": [
        "train_gen = ImageDataGenerator(rescale=1.0/255.0).flow_from_directory(directory=train_path, target_size=(299, 299), classes=['covid','normal'])\n",
        "valid_gen = ImageDataGenerator(rescale=1.0/255.0).flow_from_directory(directory=valid_path, target_size=(299, 299), classes=['covid','normal'])\n",
        "test_gen = ImageDataGenerator(rescale=1.0/255.0).flow_from_directory(directory=test_path, target_size=(299, 299), classes=['covid','normal'], shuffle=False)"
      ],
      "execution_count": null,
      "outputs": [
        {
          "output_type": "stream",
          "name": "stdout",
          "text": [
            "Found 5062 images belonging to 2 classes.\n",
            "Found 1446 images belonging to 2 classes.\n",
            "Found 724 images belonging to 2 classes.\n"
          ]
        }
      ]
    },
    {
      "cell_type": "code",
      "metadata": {
        "id": "MDgNsW7ROdeI"
      },
      "source": [
        "model = Sequential()\n",
        "\n",
        "model.add(Conv2D(filters=32, kernel_size=(3,3), input_shape=(299,299,3), activation='relu'))\n",
        "model.add(Conv2D(filters=128, kernel_size=(3,3), activation='relu'))\n",
        "model.add(MaxPool2D(pool_size=(2,2),strides=2))\n",
        "model.add(Dropout(0.25))\n",
        "\n",
        "model.add(Conv2D(filters=64, kernel_size=(3,3), activation='relu'))\n",
        "model.add(MaxPool2D(pool_size=(2,2),strides=2))\n",
        "model.add(Dropout(0.25))\n",
        "\n",
        "model.add(Conv2D(filters=128, kernel_size=(3,3), activation='relu'))\n",
        "model.add(MaxPool2D(pool_size=(2,2),strides=2))\n",
        "model.add(Dropout(0.25))\n",
        "\n",
        "model.add(Conv2D(filters=512, kernel_size=(3,3), activation='relu'))\n",
        "model.add(MaxPool2D(pool_size=(2,2),strides=2))\n",
        "model.add(Dropout(0.25))\n",
        "\n",
        "model.add(Conv2D(filters=512, kernel_size=(3,3), activation='relu'))\n",
        "model.add(MaxPool2D(pool_size=(2,2),strides=2))\n",
        "model.add(Dropout(0.25))\n",
        "\n",
        "model.add(Flatten())\n",
        "\n",
        "\n",
        "model.add(Dense(64, activation='relu'))\n",
        "model.add(Dropout(0.25))\n",
        "\n",
        "model.add(Dense(2, activation='softmax'))\n",
        "\n",
        "model.compile(loss='categorical_crossentropy', optimizer='adam',\n",
        "             metrics=['accuracy'])"
      ],
      "execution_count": null,
      "outputs": []
    },
    {
      "cell_type": "code",
      "metadata": {
        "colab": {
          "base_uri": "https://localhost:8080/"
        },
        "id": "QxMiT2bUPuQG",
        "outputId": "4860a722-d4f6-418b-a06c-6f27d4a51362"
      },
      "source": [
        "model.summary()"
      ],
      "execution_count": null,
      "outputs": [
        {
          "name": "stdout",
          "output_type": "stream",
          "text": [
            "Model: \"sequential\"\n",
            "_________________________________________________________________\n",
            " Layer (type)                Output Shape              Param #   \n",
            "=================================================================\n",
            " conv2d (Conv2D)             (None, 297, 297, 32)      896       \n",
            "                                                                 \n",
            " conv2d_1 (Conv2D)           (None, 295, 295, 128)     36992     \n",
            "                                                                 \n",
            " max_pooling2d (MaxPooling2D  (None, 147, 147, 128)    0         \n",
            " )                                                               \n",
            "                                                                 \n",
            " dropout (Dropout)           (None, 147, 147, 128)     0         \n",
            "                                                                 \n",
            " conv2d_2 (Conv2D)           (None, 145, 145, 64)      73792     \n",
            "                                                                 \n",
            " max_pooling2d_1 (MaxPooling  (None, 72, 72, 64)       0         \n",
            " 2D)                                                             \n",
            "                                                                 \n",
            " dropout_1 (Dropout)         (None, 72, 72, 64)        0         \n",
            "                                                                 \n",
            " conv2d_3 (Conv2D)           (None, 70, 70, 128)       73856     \n",
            "                                                                 \n",
            " max_pooling2d_2 (MaxPooling  (None, 35, 35, 128)      0         \n",
            " 2D)                                                             \n",
            "                                                                 \n",
            " dropout_2 (Dropout)         (None, 35, 35, 128)       0         \n",
            "                                                                 \n",
            " conv2d_4 (Conv2D)           (None, 33, 33, 512)       590336    \n",
            "                                                                 \n",
            " max_pooling2d_3 (MaxPooling  (None, 16, 16, 512)      0         \n",
            " 2D)                                                             \n",
            "                                                                 \n",
            " dropout_3 (Dropout)         (None, 16, 16, 512)       0         \n",
            "                                                                 \n",
            " conv2d_5 (Conv2D)           (None, 14, 14, 512)       2359808   \n",
            "                                                                 \n",
            " max_pooling2d_4 (MaxPooling  (None, 7, 7, 512)        0         \n",
            " 2D)                                                             \n",
            "                                                                 \n",
            " dropout_4 (Dropout)         (None, 7, 7, 512)         0         \n",
            "                                                                 \n",
            " flatten (Flatten)           (None, 25088)             0         \n",
            "                                                                 \n",
            " dense (Dense)               (None, 64)                1605696   \n",
            "                                                                 \n",
            " dropout_5 (Dropout)         (None, 64)                0         \n",
            "                                                                 \n",
            " dense_1 (Dense)             (None, 2)                 130       \n",
            "                                                                 \n",
            "=================================================================\n",
            "Total params: 4,741,506\n",
            "Trainable params: 4,741,506\n",
            "Non-trainable params: 0\n",
            "_________________________________________________________________\n"
          ]
        }
      ]
    },
    {
      "cell_type": "code",
      "metadata": {
        "colab": {
          "base_uri": "https://localhost:8080/"
        },
        "id": "oGzPvKXjPw1c",
        "outputId": "e9569d2e-4dd5-40ab-9c3c-5ccceb4e440d"
      },
      "source": [
        "model.fit(\n",
        "    x=train_gen,\n",
        "    validation_data=valid_gen,\n",
        "    epochs=50)"
      ],
      "execution_count": null,
      "outputs": [
        {
          "name": "stdout",
          "output_type": "stream",
          "text": [
            "Epoch 1/50\n",
            "159/159 [==============================] - 1291s 8s/step - loss: 0.6871 - accuracy: 0.5603 - val_loss: 0.6320 - val_accuracy: 0.6971\n",
            "Epoch 2/50\n",
            "159/159 [==============================] - 124s 781ms/step - loss: 0.5734 - accuracy: 0.7049 - val_loss: 0.4983 - val_accuracy: 0.7898\n",
            "Epoch 3/50\n",
            "159/159 [==============================] - 124s 781ms/step - loss: 0.4212 - accuracy: 0.8242 - val_loss: 0.3182 - val_accuracy: 0.8700\n",
            "Epoch 4/50\n",
            "159/159 [==============================] - 124s 781ms/step - loss: 0.3474 - accuracy: 0.8609 - val_loss: 0.2627 - val_accuracy: 0.9025\n",
            "Epoch 5/50\n",
            "159/159 [==============================] - 124s 781ms/step - loss: 0.2733 - accuracy: 0.8888 - val_loss: 0.2251 - val_accuracy: 0.9225\n",
            "Epoch 6/50\n",
            "159/159 [==============================] - 124s 780ms/step - loss: 0.2461 - accuracy: 0.9038 - val_loss: 0.2234 - val_accuracy: 0.9122\n",
            "Epoch 7/50\n",
            "159/159 [==============================] - 124s 780ms/step - loss: 0.2021 - accuracy: 0.9226 - val_loss: 0.1920 - val_accuracy: 0.9156\n",
            "Epoch 8/50\n",
            "159/159 [==============================] - 124s 780ms/step - loss: 0.1853 - accuracy: 0.9295 - val_loss: 0.2016 - val_accuracy: 0.9371\n",
            "Epoch 9/50\n",
            "159/159 [==============================] - 124s 780ms/step - loss: 0.1628 - accuracy: 0.9419 - val_loss: 0.1506 - val_accuracy: 0.9426\n",
            "Epoch 10/50\n",
            "159/159 [==============================] - 124s 780ms/step - loss: 0.1395 - accuracy: 0.9480 - val_loss: 0.1343 - val_accuracy: 0.9530\n",
            "Epoch 11/50\n",
            "159/159 [==============================] - 124s 780ms/step - loss: 0.1337 - accuracy: 0.9502 - val_loss: 0.1439 - val_accuracy: 0.9447\n",
            "Epoch 12/50\n",
            "159/159 [==============================] - 124s 780ms/step - loss: 0.1123 - accuracy: 0.9595 - val_loss: 0.1716 - val_accuracy: 0.9433\n",
            "Epoch 13/50\n",
            "159/159 [==============================] - 124s 781ms/step - loss: 0.1010 - accuracy: 0.9642 - val_loss: 0.1525 - val_accuracy: 0.9509\n",
            "Epoch 14/50\n",
            "159/159 [==============================] - 124s 779ms/step - loss: 0.1048 - accuracy: 0.9613 - val_loss: 0.1607 - val_accuracy: 0.9412\n",
            "Epoch 15/50\n",
            "159/159 [==============================] - 124s 779ms/step - loss: 0.0934 - accuracy: 0.9670 - val_loss: 0.1495 - val_accuracy: 0.9530\n",
            "Epoch 16/50\n",
            "159/159 [==============================] - 124s 780ms/step - loss: 0.0881 - accuracy: 0.9656 - val_loss: 0.1520 - val_accuracy: 0.9488\n",
            "Epoch 17/50\n",
            "159/159 [==============================] - 124s 780ms/step - loss: 0.0858 - accuracy: 0.9668 - val_loss: 0.1433 - val_accuracy: 0.9523\n",
            "Epoch 18/50\n",
            "159/159 [==============================] - 124s 781ms/step - loss: 0.0823 - accuracy: 0.9710 - val_loss: 0.1537 - val_accuracy: 0.9544\n",
            "Epoch 19/50\n",
            "159/159 [==============================] - 124s 781ms/step - loss: 0.0709 - accuracy: 0.9767 - val_loss: 0.1646 - val_accuracy: 0.9481\n",
            "Epoch 20/50\n",
            "159/159 [==============================] - 124s 781ms/step - loss: 0.0682 - accuracy: 0.9779 - val_loss: 0.1408 - val_accuracy: 0.9544\n",
            "Epoch 21/50\n",
            "159/159 [==============================] - 124s 781ms/step - loss: 0.0608 - accuracy: 0.9771 - val_loss: 0.1706 - val_accuracy: 0.9474\n",
            "Epoch 22/50\n",
            "159/159 [==============================] - 124s 781ms/step - loss: 0.0787 - accuracy: 0.9759 - val_loss: 0.1279 - val_accuracy: 0.9530\n",
            "Epoch 23/50\n",
            "159/159 [==============================] - 124s 780ms/step - loss: 0.0811 - accuracy: 0.9704 - val_loss: 0.1515 - val_accuracy: 0.9571\n",
            "Epoch 24/50\n",
            "159/159 [==============================] - 124s 781ms/step - loss: 0.0511 - accuracy: 0.9820 - val_loss: 0.1770 - val_accuracy: 0.9537\n",
            "Epoch 25/50\n",
            "159/159 [==============================] - 124s 781ms/step - loss: 0.0586 - accuracy: 0.9810 - val_loss: 0.1507 - val_accuracy: 0.9599\n",
            "Epoch 26/50\n",
            "159/159 [==============================] - 124s 780ms/step - loss: 0.0365 - accuracy: 0.9866 - val_loss: 0.1869 - val_accuracy: 0.9564\n",
            "Epoch 27/50\n",
            "159/159 [==============================] - 124s 780ms/step - loss: 0.0436 - accuracy: 0.9848 - val_loss: 0.1417 - val_accuracy: 0.9585\n",
            "Epoch 28/50\n",
            "159/159 [==============================] - 124s 780ms/step - loss: 0.0318 - accuracy: 0.9881 - val_loss: 0.1263 - val_accuracy: 0.9627\n",
            "Epoch 29/50\n",
            "159/159 [==============================] - 124s 780ms/step - loss: 0.0449 - accuracy: 0.9828 - val_loss: 0.1669 - val_accuracy: 0.9557\n",
            "Epoch 30/50\n",
            "159/159 [==============================] - 124s 779ms/step - loss: 0.0488 - accuracy: 0.9856 - val_loss: 0.1385 - val_accuracy: 0.9578\n",
            "Epoch 31/50\n",
            "159/159 [==============================] - 124s 779ms/step - loss: 0.0519 - accuracy: 0.9828 - val_loss: 0.1650 - val_accuracy: 0.9613\n",
            "Epoch 32/50\n",
            "159/159 [==============================] - 124s 779ms/step - loss: 0.0414 - accuracy: 0.9828 - val_loss: 0.1457 - val_accuracy: 0.9613\n",
            "Epoch 33/50\n",
            "159/159 [==============================] - 124s 779ms/step - loss: 0.0367 - accuracy: 0.9879 - val_loss: 0.1477 - val_accuracy: 0.9599\n",
            "Epoch 34/50\n",
            "159/159 [==============================] - 124s 779ms/step - loss: 0.0372 - accuracy: 0.9870 - val_loss: 0.2215 - val_accuracy: 0.9606\n",
            "Epoch 35/50\n",
            "159/159 [==============================] - 124s 779ms/step - loss: 0.0357 - accuracy: 0.9895 - val_loss: 0.2295 - val_accuracy: 0.9550\n",
            "Epoch 36/50\n",
            "159/159 [==============================] - 124s 780ms/step - loss: 0.0289 - accuracy: 0.9893 - val_loss: 0.2064 - val_accuracy: 0.9550\n",
            "Epoch 37/50\n",
            "159/159 [==============================] - 124s 779ms/step - loss: 0.0417 - accuracy: 0.9870 - val_loss: 0.1655 - val_accuracy: 0.9585\n",
            "Epoch 38/50\n",
            "159/159 [==============================] - 124s 779ms/step - loss: 0.0288 - accuracy: 0.9915 - val_loss: 0.1698 - val_accuracy: 0.9550\n",
            "Epoch 39/50\n",
            "159/159 [==============================] - 124s 779ms/step - loss: 0.0364 - accuracy: 0.9876 - val_loss: 0.2219 - val_accuracy: 0.9544\n",
            "Epoch 40/50\n",
            "159/159 [==============================] - 124s 779ms/step - loss: 0.0403 - accuracy: 0.9872 - val_loss: 0.1339 - val_accuracy: 0.9668\n",
            "Epoch 41/50\n",
            "159/159 [==============================] - 124s 779ms/step - loss: 0.0244 - accuracy: 0.9917 - val_loss: 0.1838 - val_accuracy: 0.9620\n",
            "Epoch 42/50\n",
            "159/159 [==============================] - 124s 779ms/step - loss: 0.0206 - accuracy: 0.9933 - val_loss: 0.2736 - val_accuracy: 0.9613\n",
            "Epoch 43/50\n",
            "159/159 [==============================] - 124s 779ms/step - loss: 0.0320 - accuracy: 0.9913 - val_loss: 0.1405 - val_accuracy: 0.9675\n",
            "Epoch 44/50\n",
            "159/159 [==============================] - 124s 780ms/step - loss: 0.0255 - accuracy: 0.9895 - val_loss: 0.1511 - val_accuracy: 0.9682\n",
            "Epoch 45/50\n",
            "159/159 [==============================] - 124s 778ms/step - loss: 0.0303 - accuracy: 0.9891 - val_loss: 0.3017 - val_accuracy: 0.9509\n",
            "Epoch 46/50\n",
            "159/159 [==============================] - 124s 778ms/step - loss: 0.0309 - accuracy: 0.9891 - val_loss: 0.1637 - val_accuracy: 0.9668\n",
            "Epoch 47/50\n",
            "159/159 [==============================] - 124s 780ms/step - loss: 0.0754 - accuracy: 0.9747 - val_loss: 0.1411 - val_accuracy: 0.9640\n",
            "Epoch 48/50\n",
            "159/159 [==============================] - 124s 780ms/step - loss: 0.0410 - accuracy: 0.9881 - val_loss: 0.1645 - val_accuracy: 0.9578\n",
            "Epoch 49/50\n",
            "159/159 [==============================] - 124s 779ms/step - loss: 0.0189 - accuracy: 0.9943 - val_loss: 0.2184 - val_accuracy: 0.9578\n",
            "Epoch 50/50\n",
            "159/159 [==============================] - 124s 780ms/step - loss: 0.0230 - accuracy: 0.9923 - val_loss: 0.1766 - val_accuracy: 0.9647\n"
          ]
        },
        {
          "data": {
            "text/plain": [
              "<keras.callbacks.History at 0x7f39dd3c1e90>"
            ]
          },
          "execution_count": 8,
          "metadata": {},
          "output_type": "execute_result"
        }
      ]
    },
    {
      "cell_type": "code",
      "metadata": {
        "id": "is6K7nTYBMyE"
      },
      "source": [
        "metrics = pd.DataFrame(model.history.history)"
      ],
      "execution_count": null,
      "outputs": []
    },
    {
      "cell_type": "code",
      "metadata": {
        "id": "KYWaVdcNGJbx"
      },
      "source": [
        "if os.path.isdir('data/dataframes') is False:\n",
        "  os.makedirs('data/dataframes')\n",
        "\n",
        "if os.path.isdir('data/models') is False:\n",
        "  os.makedirs('data/models')\n",
        "\n",
        "if os.path.isdir('data/plots') is False:\n",
        "  os.makedirs('data/plots')"
      ],
      "execution_count": null,
      "outputs": []
    },
    {
      "cell_type": "code",
      "metadata": {
        "id": "mP3kEeDRDbCY"
      },
      "source": [
        "metrics.to_csv('data/dataframes/metrics.csv', index=False)\n",
        "model.save('data/models/cnn_model.h5')"
      ],
      "execution_count": null,
      "outputs": []
    },
    {
      "cell_type": "code",
      "metadata": {
        "colab": {
          "base_uri": "https://localhost:8080/",
          "height": 17
        },
        "id": "ca9c_aZKD8AW",
        "outputId": "f799cd8d-fa32-4108-c6f9-03e3d15601ed"
      },
      "source": [
        "# files.download('data/dataframes/metrics.csv')\n",
        "# files.download('data/models/cnn_model.h5')"
      ],
      "execution_count": null,
      "outputs": [
        {
          "data": {
            "application/javascript": [
              "\n",
              "    async function download(id, filename, size) {\n",
              "      if (!google.colab.kernel.accessAllowed) {\n",
              "        return;\n",
              "      }\n",
              "      const div = document.createElement('div');\n",
              "      const label = document.createElement('label');\n",
              "      label.textContent = `Downloading \"${filename}\": `;\n",
              "      div.appendChild(label);\n",
              "      const progress = document.createElement('progress');\n",
              "      progress.max = size;\n",
              "      div.appendChild(progress);\n",
              "      document.body.appendChild(div);\n",
              "\n",
              "      const buffers = [];\n",
              "      let downloaded = 0;\n",
              "\n",
              "      const channel = await google.colab.kernel.comms.open(id);\n",
              "      // Send a message to notify the kernel that we're ready.\n",
              "      channel.send({})\n",
              "\n",
              "      for await (const message of channel.messages) {\n",
              "        // Send a message to notify the kernel that we're ready.\n",
              "        channel.send({})\n",
              "        if (message.buffers) {\n",
              "          for (const buffer of message.buffers) {\n",
              "            buffers.push(buffer);\n",
              "            downloaded += buffer.byteLength;\n",
              "            progress.value = downloaded;\n",
              "          }\n",
              "        }\n",
              "      }\n",
              "      const blob = new Blob(buffers, {type: 'application/binary'});\n",
              "      const a = document.createElement('a');\n",
              "      a.href = window.URL.createObjectURL(blob);\n",
              "      a.download = filename;\n",
              "      div.appendChild(a);\n",
              "      a.click();\n",
              "      div.remove();\n",
              "    }\n",
              "  "
            ],
            "text/plain": [
              "<IPython.core.display.Javascript object>"
            ]
          },
          "metadata": {},
          "output_type": "display_data"
        },
        {
          "data": {
            "application/javascript": [
              "download(\"download_81c9b69c-2025-4ec5-b30b-d0b442d0f458\", \"metrics.csv\", 3904)"
            ],
            "text/plain": [
              "<IPython.core.display.Javascript object>"
            ]
          },
          "metadata": {},
          "output_type": "display_data"
        },
        {
          "data": {
            "application/javascript": [
              "\n",
              "    async function download(id, filename, size) {\n",
              "      if (!google.colab.kernel.accessAllowed) {\n",
              "        return;\n",
              "      }\n",
              "      const div = document.createElement('div');\n",
              "      const label = document.createElement('label');\n",
              "      label.textContent = `Downloading \"${filename}\": `;\n",
              "      div.appendChild(label);\n",
              "      const progress = document.createElement('progress');\n",
              "      progress.max = size;\n",
              "      div.appendChild(progress);\n",
              "      document.body.appendChild(div);\n",
              "\n",
              "      const buffers = [];\n",
              "      let downloaded = 0;\n",
              "\n",
              "      const channel = await google.colab.kernel.comms.open(id);\n",
              "      // Send a message to notify the kernel that we're ready.\n",
              "      channel.send({})\n",
              "\n",
              "      for await (const message of channel.messages) {\n",
              "        // Send a message to notify the kernel that we're ready.\n",
              "        channel.send({})\n",
              "        if (message.buffers) {\n",
              "          for (const buffer of message.buffers) {\n",
              "            buffers.push(buffer);\n",
              "            downloaded += buffer.byteLength;\n",
              "            progress.value = downloaded;\n",
              "          }\n",
              "        }\n",
              "      }\n",
              "      const blob = new Blob(buffers, {type: 'application/binary'});\n",
              "      const a = document.createElement('a');\n",
              "      a.href = window.URL.createObjectURL(blob);\n",
              "      a.download = filename;\n",
              "      div.appendChild(a);\n",
              "      a.click();\n",
              "      div.remove();\n",
              "    }\n",
              "  "
            ],
            "text/plain": [
              "<IPython.core.display.Javascript object>"
            ]
          },
          "metadata": {},
          "output_type": "display_data"
        },
        {
          "data": {
            "application/javascript": [
              "download(\"download_d70416e6-e1e8-41db-9e55-b336225ac74d\", \"cnn_model.h5\", 56985680)"
            ],
            "text/plain": [
              "<IPython.core.display.Javascript object>"
            ]
          },
          "metadata": {},
          "output_type": "display_data"
        }
      ]
    },
    {
      "cell_type": "code",
      "metadata": {
        "id": "aY1JpWJFFK4S"
      },
      "source": [
        "metrics = pd.read_csv('data/dataframes/metrics.csv')"
      ],
      "execution_count": null,
      "outputs": []
    },
    {
      "cell_type": "code",
      "metadata": {
        "colab": {
          "base_uri": "https://localhost:8080/",
          "height": 282
        },
        "id": "U-DxRI7YYw_f",
        "outputId": "16f3775e-cecf-47af-d30f-a94eb14cb9cd"
      },
      "source": [
        "metrics[['accuracy', 'val_accuracy']].plot()"
      ],
      "execution_count": null,
      "outputs": [
        {
          "output_type": "execute_result",
          "data": {
            "text/plain": [
              "<matplotlib.axes._subplots.AxesSubplot at 0x7efc3f8e4150>"
            ]
          },
          "metadata": {},
          "execution_count": 7
        },
        {
          "output_type": "display_data",
          "data": {
            "image/png": "[encoded data removed]",
            "text/plain": [
              "<Figure size 432x288 with 1 Axes>"
            ]
          },
          "metadata": {
            "needs_background": "light"
          }
        }
      ]
    },
    {
      "cell_type": "code",
      "metadata": {
        "colab": {
          "base_uri": "https://localhost:8080/",
          "height": 282
        },
        "id": "UdJT80b6Yxyx",
        "outputId": "db8f4c8f-f2f0-4080-c351-104adfdc6652"
      },
      "source": [
        "metrics[['loss','val_loss']].plot()"
      ],
      "execution_count": null,
      "outputs": [
        {
          "output_type": "execute_result",
          "data": {
            "text/plain": [
              "<matplotlib.axes._subplots.AxesSubplot at 0x7efc3f7da150>"
            ]
          },
          "metadata": {},
          "execution_count": 8
        },
        {
          "output_type": "display_data",
          "data": {
            "image/png": "[encoded data removed]",
            "text/plain": [
              "<Figure size 432x288 with 1 Axes>"
            ]
          },
          "metadata": {
            "needs_background": "light"
          }
        }
      ]
    },
    {
      "cell_type": "code",
      "metadata": {
        "id": "Gz9ORDxHeDhy"
      },
      "source": [
        "cnn_model = load_model('data/models/cnn_model.h5')"
      ],
      "execution_count": 5,
      "outputs": []
    },
    {
      "cell_type": "code",
      "metadata": {
        "colab": {
          "base_uri": "https://localhost:8080/"
        },
        "id": "s4YGT94Wc-p6",
        "outputId": "ccb32067-018d-4abe-a1cb-1d45bae3e0c8"
      },
      "source": [
        "test_gen.class_indices"
      ],
      "execution_count": null,
      "outputs": [
        {
          "output_type": "execute_result",
          "data": {
            "text/plain": [
              "{'covid': 0, 'normal': 1}"
            ]
          },
          "metadata": {},
          "execution_count": 9
        }
      ]
    },
    {
      "cell_type": "code",
      "metadata": {
        "colab": {
          "base_uri": "https://localhost:8080/"
        },
        "id": "fAXpUBLaegMu",
        "outputId": "8577093b-1ff0-4267-b5a0-7d5abd2b77bb"
      },
      "source": [
        "preds = cnn_model.predict(x=test_gen)\n",
        "print(classification_report(y_true= test_gen.classes, y_pred=np.argmax(preds, axis=-1), digits=4,labels=[0,1], target_names=['Covid', 'Normal']))"
      ],
      "execution_count": null,
      "outputs": [
        {
          "output_type": "stream",
          "name": "stdout",
          "text": [
            "              precision    recall  f1-score   support\n",
            "\n",
            "       Covid     0.9749    0.9669    0.9709       362\n",
            "      Normal     0.9671    0.9751    0.9711       362\n",
            "\n",
            "    accuracy                         0.9710       724\n",
            "   macro avg     0.9710    0.9710    0.9710       724\n",
            "weighted avg     0.9710    0.9710    0.9710       724\n",
            "\n"
          ]
        }
      ]
    },
    {
      "cell_type": "code",
      "source": [
        "cm = ConfusionMatrixDisplay.from_predictions(\n",
        "   test_gen.classes, np.argmax(preds,axis=1), labels=[0,1], display_labels=['Covid', 'Normal'],cmap=plt.cm.Blues)\n",
        "plt.title(\"CNN\")"
      ],
      "metadata": {
        "colab": {
          "base_uri": "https://localhost:8080/",
          "height": 312
        },
        "id": "B7CcEGcwqMvb",
        "outputId": "3c41d2d0-af2c-4726-e65c-ab368a963abd"
      },
      "execution_count": null,
      "outputs": [
        {
          "output_type": "execute_result",
          "data": {
            "text/plain": [
              "Text(0.5, 1.0, 'CNN')"
            ]
          },
          "metadata": {},
          "execution_count": 12
        },
        {
          "output_type": "display_data",
          "data": {
            "image/png": "[encoded data removed]",
            "text/plain": [
              "<Figure size 432x288 with 2 Axes>"
            ]
          },
          "metadata": {
            "needs_background": "light"
          }
        }
      ]
    },
    {
      "cell_type": "markdown",
      "source": [
        "## Feature Extraction"
      ],
      "metadata": {
        "id": "2hKk7Kda1zrM"
      }
    },
    {
      "cell_type": "code",
      "metadata": {
        "id": "C2FjCf57gZUu"
      },
      "source": [
        "feature_selector = Sequential()\n",
        "for layer in cnn_model.layers[:-2]:\n",
        "    feature_selector.add(layer)"
      ],
      "execution_count": null,
      "outputs": []
    },
    {
      "cell_type": "code",
      "metadata": {
        "colab": {
          "base_uri": "https://localhost:8080/"
        },
        "id": "6ZmR7GmZgk3Y",
        "outputId": "d398afc7-b393-4d70-b4bd-4fc9a814e70f"
      },
      "source": [
        "feature_selector.summary()"
      ],
      "execution_count": null,
      "outputs": [
        {
          "output_type": "stream",
          "name": "stdout",
          "text": [
            "Model: \"sequential\"\n",
            "_________________________________________________________________\n",
            " Layer (type)                Output Shape              Param #   \n",
            "=================================================================\n",
            " conv2d (Conv2D)             (None, 297, 297, 32)      896       \n",
            "                                                                 \n",
            " conv2d_1 (Conv2D)           (None, 295, 295, 128)     36992     \n",
            "                                                                 \n",
            " max_pooling2d (MaxPooling2D  (None, 147, 147, 128)    0         \n",
            " )                                                               \n",
            "                                                                 \n",
            " dropout (Dropout)           (None, 147, 147, 128)     0         \n",
            "                                                                 \n",
            " conv2d_2 (Conv2D)           (None, 145, 145, 64)      73792     \n",
            "                                                                 \n",
            " max_pooling2d_1 (MaxPooling  (None, 72, 72, 64)       0         \n",
            " 2D)                                                             \n",
            "                                                                 \n",
            " dropout_1 (Dropout)         (None, 72, 72, 64)        0         \n",
            "                                                                 \n",
            " conv2d_3 (Conv2D)           (None, 70, 70, 128)       73856     \n",
            "                                                                 \n",
            " max_pooling2d_2 (MaxPooling  (None, 35, 35, 128)      0         \n",
            " 2D)                                                             \n",
            "                                                                 \n",
            " dropout_2 (Dropout)         (None, 35, 35, 128)       0         \n",
            "                                                                 \n",
            " conv2d_4 (Conv2D)           (None, 33, 33, 512)       590336    \n",
            "                                                                 \n",
            " max_pooling2d_3 (MaxPooling  (None, 16, 16, 512)      0         \n",
            " 2D)                                                             \n",
            "                                                                 \n",
            " dropout_3 (Dropout)         (None, 16, 16, 512)       0         \n",
            "                                                                 \n",
            " conv2d_5 (Conv2D)           (None, 14, 14, 512)       2359808   \n",
            "                                                                 \n",
            " max_pooling2d_4 (MaxPooling  (None, 7, 7, 512)        0         \n",
            " 2D)                                                             \n",
            "                                                                 \n",
            " dropout_4 (Dropout)         (None, 7, 7, 512)         0         \n",
            "                                                                 \n",
            " flatten (Flatten)           (None, 25088)             0         \n",
            "                                                                 \n",
            " dense (Dense)               (None, 64)                1605696   \n",
            "                                                                 \n",
            "=================================================================\n",
            "Total params: 4,741,376\n",
            "Trainable params: 4,741,376\n",
            "Non-trainable params: 0\n",
            "_________________________________________________________________\n"
          ]
        }
      ]
    },
    {
      "cell_type": "code",
      "metadata": {
        "id": "5SLoHQt2dDyP"
      },
      "source": [
        "os.chdir('/content/drive/My Drive/Dataset/data/train/covid')\n",
        "covid_train = []\n",
        "for path in glob.glob('COVID-*'):\n",
        "    img = image.load_img(path, target_size=(299,299,3))\n",
        "    img_arr = (np.expand_dims(image.img_to_array(img), axis=0))/255.0\n",
        "    fs = feature_selector.predict(img_arr).tolist()[0]\n",
        "    covid_train.append(fs)"
      ],
      "execution_count": null,
      "outputs": []
    },
    {
      "cell_type": "code",
      "metadata": {
        "id": "dw0XkDJxcC4s"
      },
      "source": [
        "os.chdir('/content/drive/My Drive/Dataset/data/train/normal')\n",
        "normal_train = []\n",
        "for path in glob.glob('Normal-*'):\n",
        "    img = image.load_img(path, target_size=(299,299,3))\n",
        "    img_arr = (np.expand_dims(image.img_to_array(img), axis=0))/255.0\n",
        "    fs = feature_selector.predict(img_arr).tolist()[0]\n",
        "    normal_train.append(fs)"
      ],
      "execution_count": null,
      "outputs": []
    },
    {
      "cell_type": "code",
      "metadata": {
        "id": "qe5dgFnocNRS"
      },
      "source": [
        "train_df_c = pd.DataFrame(covid_train, columns=list(map(str,np.linspace(1,64,64,dtype=int))))\n",
        "train_df_c['result'] = 1\n",
        "train_df_n = pd.DataFrame(normal_train, columns=list(map(str,np.linspace(1,64,64,dtype=int))))\n",
        "train_df_n['result'] = 0\n",
        "train_df = pd.concat([train_df_c, train_df_n], ignore_index=True)\n",
        "train_df = train_df.sample(frac=1).reset_index(drop=True)"
      ],
      "execution_count": null,
      "outputs": []
    },
    {
      "cell_type": "code",
      "metadata": {
        "id": "6QtatbnhfFu4"
      },
      "source": [
        "os.chdir('/content/drive/My Drive/Dataset/data/valid/covid')\n",
        "covid_valid = []\n",
        "for path in glob.glob('COVID-*'):\n",
        "    img = image.load_img(path, target_size=(299,299,3))\n",
        "    img_arr = (np.expand_dims(image.img_to_array(img), axis=0))/255.0\n",
        "    fs = feature_selector.predict(img_arr).tolist()[0]\n",
        "    covid_valid.append(fs)"
      ],
      "execution_count": null,
      "outputs": []
    },
    {
      "cell_type": "code",
      "metadata": {
        "id": "eN88ZFd8fGSI"
      },
      "source": [
        "os.chdir('/content/drive/My Drive/Dataset/data/valid/normal')\n",
        "normal_valid = []\n",
        "for path in glob.glob('Normal-*'):\n",
        "    img = image.load_img(path, target_size=(299,299,3))\n",
        "    img_arr = (np.expand_dims(image.img_to_array(img), axis=0))/255.0\n",
        "    fs = feature_selector.predict(img_arr).tolist()[0]\n",
        "    normal_valid.append(fs)"
      ],
      "execution_count": null,
      "outputs": []
    },
    {
      "cell_type": "code",
      "metadata": {
        "id": "8PIytGqciUbl"
      },
      "source": [
        "valid_df_c = pd.DataFrame(covid_valid, columns=list(map(str,np.linspace(1,64,64,dtype=int))))\n",
        "valid_df_c['result'] = 1\n",
        "valid_df_n = pd.DataFrame(normal_valid, columns=list(map(str,np.linspace(1,64,64,dtype=int))))\n",
        "valid_df_n['result'] = 0\n",
        "valid_df = pd.concat([valid_df_c, valid_df_n], ignore_index=True)\n",
        "valid_df = valid_df.sample(frac=1).reset_index(drop=True)"
      ],
      "execution_count": null,
      "outputs": []
    },
    {
      "cell_type": "code",
      "metadata": {
        "id": "PhVyxzXdjI0p"
      },
      "source": [
        "os.chdir('/content/drive/My Drive/Dataset/data/test/covid')\n",
        "covid_test = []\n",
        "for path in glob.glob('COVID-*'):\n",
        "    img = image.load_img(path, target_size=(299,299,3))\n",
        "    img_arr = (np.expand_dims(image.img_to_array(img), axis=0))/255.0\n",
        "    fs = feature_selector.predict(img_arr).tolist()[0]\n",
        "    covid_test.append(fs)"
      ],
      "execution_count": null,
      "outputs": []
    },
    {
      "cell_type": "code",
      "metadata": {
        "id": "lXa9L1GVjpJe"
      },
      "source": [
        "os.chdir('/content/drive/My Drive/Dataset/data/test/normal')\n",
        "normal_test= []\n",
        "for path in glob.glob('Normal-*'):\n",
        "    img = image.load_img(path, target_size=(299,299,3))\n",
        "    img_arr = (np.expand_dims(image.img_to_array(img), axis=0))/255.0\n",
        "    fs = feature_selector.predict(img_arr).tolist()[0]\n",
        "    normal_test.append(fs)"
      ],
      "execution_count": null,
      "outputs": []
    },
    {
      "cell_type": "code",
      "metadata": {
        "id": "ltEW-kGHj2-b"
      },
      "source": [
        "test_df_c = pd.DataFrame(covid_test, columns=list(map(str,np.linspace(1,64,64,dtype=int))))\n",
        "test_df_c['result'] = 1\n",
        "test_df_n = pd.DataFrame(normal_test, columns=list(map(str,np.linspace(1,64,64,dtype=int))))\n",
        "test_df_n['result'] = 0\n",
        "test_df = pd.concat([test_df_c, test_df_n], ignore_index=True)\n",
        "test_df = test_df.sample(frac=1).reset_index(drop=True)"
      ],
      "execution_count": null,
      "outputs": []
    },
    {
      "cell_type": "code",
      "metadata": {
        "id": "dQX4nRGxlIpy"
      },
      "source": [
        "train_df.to_csv('/content/drive/My Drive/Dataset/data/dataframes/train_df.csv', index=False)\n",
        "valid_df.to_csv('/content/drive/My Drive/Dataset/data/dataframes/valid_df.csv', index=False)\n",
        "test_df.to_csv('/content/drive/My Drive/Dataset/data/dataframes/test_df.csv', index=False)"
      ],
      "execution_count": null,
      "outputs": []
    },
    {
      "cell_type": "code",
      "metadata": {
        "colab": {
          "base_uri": "https://localhost:8080/",
          "height": 17
        },
        "id": "GcwCZ9belWx8",
        "outputId": "c294d957-2307-411d-afe8-2267239be1cd"
      },
      "source": [
        "# files.download('/content/drive/My Drive/Dataset/data/dataframes/train_df.csv')\n",
        "# files.download('/content/drive/My Drive/Dataset/data/dataframes/valid_df.csv')\n",
        "# files.download('/content/drive/My Drive/Dataset/data/dataframes/test_df.csv')"
      ],
      "execution_count": null,
      "outputs": [
        {
          "output_type": "display_data",
          "data": {
            "application/javascript": [
              "\n",
              "    async function download(id, filename, size) {\n",
              "      if (!google.colab.kernel.accessAllowed) {\n",
              "        return;\n",
              "      }\n",
              "      const div = document.createElement('div');\n",
              "      const label = document.createElement('label');\n",
              "      label.textContent = `Downloading \"${filename}\": `;\n",
              "      div.appendChild(label);\n",
              "      const progress = document.createElement('progress');\n",
              "      progress.max = size;\n",
              "      div.appendChild(progress);\n",
              "      document.body.appendChild(div);\n",
              "\n",
              "      const buffers = [];\n",
              "      let downloaded = 0;\n",
              "\n",
              "      const channel = await google.colab.kernel.comms.open(id);\n",
              "      // Send a message to notify the kernel that we're ready.\n",
              "      channel.send({})\n",
              "\n",
              "      for await (const message of channel.messages) {\n",
              "        // Send a message to notify the kernel that we're ready.\n",
              "        channel.send({})\n",
              "        if (message.buffers) {\n",
              "          for (const buffer of message.buffers) {\n",
              "            buffers.push(buffer);\n",
              "            downloaded += buffer.byteLength;\n",
              "            progress.value = downloaded;\n",
              "          }\n",
              "        }\n",
              "      }\n",
              "      const blob = new Blob(buffers, {type: 'application/binary'});\n",
              "      const a = document.createElement('a');\n",
              "      a.href = window.URL.createObjectURL(blob);\n",
              "      a.download = filename;\n",
              "      div.appendChild(a);\n",
              "      a.click();\n",
              "      div.remove();\n",
              "    }\n",
              "  "
            ],
            "text/plain": [
              "<IPython.core.display.Javascript object>"
            ]
          },
          "metadata": {}
        },
        {
          "output_type": "display_data",
          "data": {
            "application/javascript": [
              "download(\"download_b8d882dd-be5e-4511-983b-b48b9877d0bc\", \"train_df.csv\", 1888891)"
            ],
            "text/plain": [
              "<IPython.core.display.Javascript object>"
            ]
          },
          "metadata": {}
        },
        {
          "output_type": "display_data",
          "data": {
            "application/javascript": [
              "\n",
              "    async function download(id, filename, size) {\n",
              "      if (!google.colab.kernel.accessAllowed) {\n",
              "        return;\n",
              "      }\n",
              "      const div = document.createElement('div');\n",
              "      const label = document.createElement('label');\n",
              "      label.textContent = `Downloading \"${filename}\": `;\n",
              "      div.appendChild(label);\n",
              "      const progress = document.createElement('progress');\n",
              "      progress.max = size;\n",
              "      div.appendChild(progress);\n",
              "      document.body.appendChild(div);\n",
              "\n",
              "      const buffers = [];\n",
              "      let downloaded = 0;\n",
              "\n",
              "      const channel = await google.colab.kernel.comms.open(id);\n",
              "      // Send a message to notify the kernel that we're ready.\n",
              "      channel.send({})\n",
              "\n",
              "      for await (const message of channel.messages) {\n",
              "        // Send a message to notify the kernel that we're ready.\n",
              "        channel.send({})\n",
              "        if (message.buffers) {\n",
              "          for (const buffer of message.buffers) {\n",
              "            buffers.push(buffer);\n",
              "            downloaded += buffer.byteLength;\n",
              "            progress.value = downloaded;\n",
              "          }\n",
              "        }\n",
              "      }\n",
              "      const blob = new Blob(buffers, {type: 'application/binary'});\n",
              "      const a = document.createElement('a');\n",
              "      a.href = window.URL.createObjectURL(blob);\n",
              "      a.download = filename;\n",
              "      div.appendChild(a);\n",
              "      a.click();\n",
              "      div.remove();\n",
              "    }\n",
              "  "
            ],
            "text/plain": [
              "<IPython.core.display.Javascript object>"
            ]
          },
          "metadata": {}
        },
        {
          "output_type": "display_data",
          "data": {
            "application/javascript": [
              "download(\"download_84c6815d-3e2c-49f4-9e95-cd371721df7f\", \"valid_df.csv\", 539725)"
            ],
            "text/plain": [
              "<IPython.core.display.Javascript object>"
            ]
          },
          "metadata": {}
        },
        {
          "output_type": "display_data",
          "data": {
            "application/javascript": [
              "\n",
              "    async function download(id, filename, size) {\n",
              "      if (!google.colab.kernel.accessAllowed) {\n",
              "        return;\n",
              "      }\n",
              "      const div = document.createElement('div');\n",
              "      const label = document.createElement('label');\n",
              "      label.textContent = `Downloading \"${filename}\": `;\n",
              "      div.appendChild(label);\n",
              "      const progress = document.createElement('progress');\n",
              "      progress.max = size;\n",
              "      div.appendChild(progress);\n",
              "      document.body.appendChild(div);\n",
              "\n",
              "      const buffers = [];\n",
              "      let downloaded = 0;\n",
              "\n",
              "      const channel = await google.colab.kernel.comms.open(id);\n",
              "      // Send a message to notify the kernel that we're ready.\n",
              "      channel.send({})\n",
              "\n",
              "      for await (const message of channel.messages) {\n",
              "        // Send a message to notify the kernel that we're ready.\n",
              "        channel.send({})\n",
              "        if (message.buffers) {\n",
              "          for (const buffer of message.buffers) {\n",
              "            buffers.push(buffer);\n",
              "            downloaded += buffer.byteLength;\n",
              "            progress.value = downloaded;\n",
              "          }\n",
              "        }\n",
              "      }\n",
              "      const blob = new Blob(buffers, {type: 'application/binary'});\n",
              "      const a = document.createElement('a');\n",
              "      a.href = window.URL.createObjectURL(blob);\n",
              "      a.download = filename;\n",
              "      div.appendChild(a);\n",
              "      a.click();\n",
              "      div.remove();\n",
              "    }\n",
              "  "
            ],
            "text/plain": [
              "<IPython.core.display.Javascript object>"
            ]
          },
          "metadata": {}
        },
        {
          "output_type": "display_data",
          "data": {
            "application/javascript": [
              "download(\"download_df2a9c15-25d9-45e3-a568-4020617ba462\", \"test_df.csv\", 270779)"
            ],
            "text/plain": [
              "<IPython.core.display.Javascript object>"
            ]
          },
          "metadata": {}
        }
      ]
    },
    {
      "cell_type": "markdown",
      "source": [
        "## Machine Learning Models"
      ],
      "metadata": {
        "id": "RJKedqOe18LU"
      }
    },
    {
      "cell_type": "code",
      "metadata": {
        "id": "kuVG4zybLn3I"
      },
      "source": [
        "train_df = pd.read_csv('/content/drive/My Drive/Dataset/data/dataframes/train_df.csv')\n",
        "valid_df = pd.read_csv('/content/drive/My Drive/Dataset/data/dataframes/valid_df.csv')\n",
        "test_df = pd.read_csv('/content/drive/My Drive/Dataset/data/dataframes/test_df.csv')"
      ],
      "execution_count": null,
      "outputs": []
    },
    {
      "cell_type": "code",
      "metadata": {
        "colab": {
          "base_uri": "https://localhost:8080/",
          "height": 226
        },
        "id": "ab0HtymP-Sw4",
        "outputId": "b30604a4-11af-46df-ceae-1fd2b05b5058"
      },
      "source": [
        "train_df.head(5)"
      ],
      "execution_count": null,
      "outputs": [
        {
          "output_type": "execute_result",
          "data": {
            "text/html": [
              "<div>\n",
              "<style scoped>\n",
              "    .dataframe tbody tr th:only-of-type {\n",
              "        vertical-align: middle;\n",
              "    }\n",
              "\n",
              "    .dataframe tbody tr th {\n",
              "        vertical-align: top;\n",
              "    }\n",
              "\n",
              "    .dataframe thead th {\n",
              "        text-align: right;\n",
              "    }\n",
              "</style>\n",
              "<table border=\"1\" class=\"dataframe\">\n",
              "  <thead>\n",
              "    <tr style=\"text-align: right;\">\n",
              "      <th></th>\n",
              "      <th>1</th>\n",
              "      <th>2</th>\n",
              "      <th>3</th>\n",
              "      <th>4</th>\n",
              "      <th>5</th>\n",
              "      <th>6</th>\n",
              "      <th>7</th>\n",
              "      <th>8</th>\n",
              "      <th>9</th>\n",
              "      <th>10</th>\n",
              "      <th>11</th>\n",
              "      <th>12</th>\n",
              "      <th>13</th>\n",
              "      <th>14</th>\n",
              "      <th>15</th>\n",
              "      <th>16</th>\n",
              "      <th>17</th>\n",
              "      <th>18</th>\n",
              "      <th>19</th>\n",
              "      <th>20</th>\n",
              "      <th>21</th>\n",
              "      <th>22</th>\n",
              "      <th>23</th>\n",
              "      <th>24</th>\n",
              "      <th>25</th>\n",
              "      <th>26</th>\n",
              "      <th>27</th>\n",
              "      <th>28</th>\n",
              "      <th>29</th>\n",
              "      <th>30</th>\n",
              "      <th>31</th>\n",
              "      <th>32</th>\n",
              "      <th>33</th>\n",
              "      <th>34</th>\n",
              "      <th>35</th>\n",
              "      <th>36</th>\n",
              "      <th>37</th>\n",
              "      <th>38</th>\n",
              "      <th>39</th>\n",
              "      <th>40</th>\n",
              "      <th>41</th>\n",
              "      <th>42</th>\n",
              "      <th>43</th>\n",
              "      <th>44</th>\n",
              "      <th>45</th>\n",
              "      <th>46</th>\n",
              "      <th>47</th>\n",
              "      <th>48</th>\n",
              "      <th>49</th>\n",
              "      <th>50</th>\n",
              "      <th>51</th>\n",
              "      <th>52</th>\n",
              "      <th>53</th>\n",
              "      <th>54</th>\n",
              "      <th>55</th>\n",
              "      <th>56</th>\n",
              "      <th>57</th>\n",
              "      <th>58</th>\n",
              "      <th>59</th>\n",
              "      <th>60</th>\n",
              "      <th>61</th>\n",
              "      <th>62</th>\n",
              "      <th>63</th>\n",
              "      <th>64</th>\n",
              "      <th>result</th>\n",
              "    </tr>\n",
              "  </thead>\n",
              "  <tbody>\n",
              "    <tr>\n",
              "      <th>0</th>\n",
              "      <td>0.0</td>\n",
              "      <td>0.0</td>\n",
              "      <td>0.0</td>\n",
              "      <td>0.000000</td>\n",
              "      <td>0.0</td>\n",
              "      <td>0.0</td>\n",
              "      <td>0.0</td>\n",
              "      <td>0.0</td>\n",
              "      <td>0.0</td>\n",
              "      <td>0.0</td>\n",
              "      <td>0.0</td>\n",
              "      <td>0.0</td>\n",
              "      <td>8.273885</td>\n",
              "      <td>0.0</td>\n",
              "      <td>0.0</td>\n",
              "      <td>0.0</td>\n",
              "      <td>0.0</td>\n",
              "      <td>0.000000</td>\n",
              "      <td>13.690559</td>\n",
              "      <td>0.0</td>\n",
              "      <td>0.0</td>\n",
              "      <td>0.0</td>\n",
              "      <td>0.0</td>\n",
              "      <td>0.0</td>\n",
              "      <td>0.0</td>\n",
              "      <td>29.662434</td>\n",
              "      <td>22.132536</td>\n",
              "      <td>0.0</td>\n",
              "      <td>0.0</td>\n",
              "      <td>4.076708</td>\n",
              "      <td>0.0</td>\n",
              "      <td>0.0</td>\n",
              "      <td>0.0</td>\n",
              "      <td>17.177250</td>\n",
              "      <td>0.0</td>\n",
              "      <td>0.0</td>\n",
              "      <td>0.0</td>\n",
              "      <td>12.037775</td>\n",
              "      <td>0.000000</td>\n",
              "      <td>0.0</td>\n",
              "      <td>0.0</td>\n",
              "      <td>0.0</td>\n",
              "      <td>4.360051</td>\n",
              "      <td>0.000000</td>\n",
              "      <td>0.0</td>\n",
              "      <td>0.0</td>\n",
              "      <td>0.0</td>\n",
              "      <td>0.0</td>\n",
              "      <td>0.0</td>\n",
              "      <td>0.0</td>\n",
              "      <td>0.000000</td>\n",
              "      <td>0.826803</td>\n",
              "      <td>0.0</td>\n",
              "      <td>0.0</td>\n",
              "      <td>0.0</td>\n",
              "      <td>0.0</td>\n",
              "      <td>0.0</td>\n",
              "      <td>0.0</td>\n",
              "      <td>0.000000</td>\n",
              "      <td>0.0</td>\n",
              "      <td>0.0</td>\n",
              "      <td>0.226400</td>\n",
              "      <td>0.0</td>\n",
              "      <td>0.0</td>\n",
              "      <td>1</td>\n",
              "    </tr>\n",
              "    <tr>\n",
              "      <th>1</th>\n",
              "      <td>0.0</td>\n",
              "      <td>0.0</td>\n",
              "      <td>0.0</td>\n",
              "      <td>84.282455</td>\n",
              "      <td>0.0</td>\n",
              "      <td>0.0</td>\n",
              "      <td>0.0</td>\n",
              "      <td>0.0</td>\n",
              "      <td>0.0</td>\n",
              "      <td>0.0</td>\n",
              "      <td>0.0</td>\n",
              "      <td>0.0</td>\n",
              "      <td>0.000000</td>\n",
              "      <td>0.0</td>\n",
              "      <td>0.0</td>\n",
              "      <td>0.0</td>\n",
              "      <td>0.0</td>\n",
              "      <td>116.208740</td>\n",
              "      <td>0.000000</td>\n",
              "      <td>0.0</td>\n",
              "      <td>0.0</td>\n",
              "      <td>0.0</td>\n",
              "      <td>0.0</td>\n",
              "      <td>0.0</td>\n",
              "      <td>0.0</td>\n",
              "      <td>0.000000</td>\n",
              "      <td>0.000000</td>\n",
              "      <td>0.0</td>\n",
              "      <td>0.0</td>\n",
              "      <td>0.000000</td>\n",
              "      <td>0.0</td>\n",
              "      <td>0.0</td>\n",
              "      <td>0.0</td>\n",
              "      <td>0.000000</td>\n",
              "      <td>0.0</td>\n",
              "      <td>0.0</td>\n",
              "      <td>0.0</td>\n",
              "      <td>0.000000</td>\n",
              "      <td>0.000000</td>\n",
              "      <td>0.0</td>\n",
              "      <td>0.0</td>\n",
              "      <td>0.0</td>\n",
              "      <td>45.260952</td>\n",
              "      <td>136.373703</td>\n",
              "      <td>0.0</td>\n",
              "      <td>0.0</td>\n",
              "      <td>0.0</td>\n",
              "      <td>0.0</td>\n",
              "      <td>0.0</td>\n",
              "      <td>0.0</td>\n",
              "      <td>0.000000</td>\n",
              "      <td>0.000000</td>\n",
              "      <td>0.0</td>\n",
              "      <td>0.0</td>\n",
              "      <td>0.0</td>\n",
              "      <td>0.0</td>\n",
              "      <td>0.0</td>\n",
              "      <td>0.0</td>\n",
              "      <td>54.042297</td>\n",
              "      <td>0.0</td>\n",
              "      <td>0.0</td>\n",
              "      <td>52.143547</td>\n",
              "      <td>0.0</td>\n",
              "      <td>0.0</td>\n",
              "      <td>0</td>\n",
              "    </tr>\n",
              "    <tr>\n",
              "      <th>2</th>\n",
              "      <td>0.0</td>\n",
              "      <td>0.0</td>\n",
              "      <td>0.0</td>\n",
              "      <td>0.000000</td>\n",
              "      <td>0.0</td>\n",
              "      <td>0.0</td>\n",
              "      <td>0.0</td>\n",
              "      <td>0.0</td>\n",
              "      <td>0.0</td>\n",
              "      <td>0.0</td>\n",
              "      <td>0.0</td>\n",
              "      <td>0.0</td>\n",
              "      <td>0.000000</td>\n",
              "      <td>0.0</td>\n",
              "      <td>0.0</td>\n",
              "      <td>0.0</td>\n",
              "      <td>0.0</td>\n",
              "      <td>0.000000</td>\n",
              "      <td>43.235256</td>\n",
              "      <td>0.0</td>\n",
              "      <td>0.0</td>\n",
              "      <td>0.0</td>\n",
              "      <td>0.0</td>\n",
              "      <td>0.0</td>\n",
              "      <td>0.0</td>\n",
              "      <td>71.093323</td>\n",
              "      <td>61.753006</td>\n",
              "      <td>0.0</td>\n",
              "      <td>0.0</td>\n",
              "      <td>62.830414</td>\n",
              "      <td>0.0</td>\n",
              "      <td>0.0</td>\n",
              "      <td>0.0</td>\n",
              "      <td>47.232075</td>\n",
              "      <td>0.0</td>\n",
              "      <td>0.0</td>\n",
              "      <td>0.0</td>\n",
              "      <td>60.357964</td>\n",
              "      <td>73.298683</td>\n",
              "      <td>0.0</td>\n",
              "      <td>0.0</td>\n",
              "      <td>0.0</td>\n",
              "      <td>0.000000</td>\n",
              "      <td>0.000000</td>\n",
              "      <td>0.0</td>\n",
              "      <td>0.0</td>\n",
              "      <td>0.0</td>\n",
              "      <td>0.0</td>\n",
              "      <td>0.0</td>\n",
              "      <td>0.0</td>\n",
              "      <td>58.985550</td>\n",
              "      <td>49.895393</td>\n",
              "      <td>0.0</td>\n",
              "      <td>0.0</td>\n",
              "      <td>0.0</td>\n",
              "      <td>0.0</td>\n",
              "      <td>0.0</td>\n",
              "      <td>0.0</td>\n",
              "      <td>0.000000</td>\n",
              "      <td>0.0</td>\n",
              "      <td>0.0</td>\n",
              "      <td>0.000000</td>\n",
              "      <td>0.0</td>\n",
              "      <td>0.0</td>\n",
              "      <td>1</td>\n",
              "    </tr>\n",
              "    <tr>\n",
              "      <th>3</th>\n",
              "      <td>0.0</td>\n",
              "      <td>0.0</td>\n",
              "      <td>0.0</td>\n",
              "      <td>0.000000</td>\n",
              "      <td>0.0</td>\n",
              "      <td>0.0</td>\n",
              "      <td>0.0</td>\n",
              "      <td>0.0</td>\n",
              "      <td>0.0</td>\n",
              "      <td>0.0</td>\n",
              "      <td>0.0</td>\n",
              "      <td>0.0</td>\n",
              "      <td>0.000000</td>\n",
              "      <td>0.0</td>\n",
              "      <td>0.0</td>\n",
              "      <td>0.0</td>\n",
              "      <td>0.0</td>\n",
              "      <td>0.000000</td>\n",
              "      <td>7.109105</td>\n",
              "      <td>0.0</td>\n",
              "      <td>0.0</td>\n",
              "      <td>0.0</td>\n",
              "      <td>0.0</td>\n",
              "      <td>0.0</td>\n",
              "      <td>0.0</td>\n",
              "      <td>15.240572</td>\n",
              "      <td>21.881392</td>\n",
              "      <td>0.0</td>\n",
              "      <td>0.0</td>\n",
              "      <td>0.000000</td>\n",
              "      <td>0.0</td>\n",
              "      <td>0.0</td>\n",
              "      <td>0.0</td>\n",
              "      <td>13.386381</td>\n",
              "      <td>0.0</td>\n",
              "      <td>0.0</td>\n",
              "      <td>0.0</td>\n",
              "      <td>10.601852</td>\n",
              "      <td>0.000000</td>\n",
              "      <td>0.0</td>\n",
              "      <td>0.0</td>\n",
              "      <td>0.0</td>\n",
              "      <td>0.000000</td>\n",
              "      <td>0.000000</td>\n",
              "      <td>0.0</td>\n",
              "      <td>0.0</td>\n",
              "      <td>0.0</td>\n",
              "      <td>0.0</td>\n",
              "      <td>0.0</td>\n",
              "      <td>0.0</td>\n",
              "      <td>4.410851</td>\n",
              "      <td>14.413200</td>\n",
              "      <td>0.0</td>\n",
              "      <td>0.0</td>\n",
              "      <td>0.0</td>\n",
              "      <td>0.0</td>\n",
              "      <td>0.0</td>\n",
              "      <td>0.0</td>\n",
              "      <td>0.000000</td>\n",
              "      <td>0.0</td>\n",
              "      <td>0.0</td>\n",
              "      <td>0.000000</td>\n",
              "      <td>0.0</td>\n",
              "      <td>0.0</td>\n",
              "      <td>1</td>\n",
              "    </tr>\n",
              "    <tr>\n",
              "      <th>4</th>\n",
              "      <td>0.0</td>\n",
              "      <td>0.0</td>\n",
              "      <td>0.0</td>\n",
              "      <td>65.541519</td>\n",
              "      <td>0.0</td>\n",
              "      <td>0.0</td>\n",
              "      <td>0.0</td>\n",
              "      <td>0.0</td>\n",
              "      <td>0.0</td>\n",
              "      <td>0.0</td>\n",
              "      <td>0.0</td>\n",
              "      <td>0.0</td>\n",
              "      <td>45.820919</td>\n",
              "      <td>0.0</td>\n",
              "      <td>0.0</td>\n",
              "      <td>0.0</td>\n",
              "      <td>0.0</td>\n",
              "      <td>28.814291</td>\n",
              "      <td>0.000000</td>\n",
              "      <td>0.0</td>\n",
              "      <td>0.0</td>\n",
              "      <td>0.0</td>\n",
              "      <td>0.0</td>\n",
              "      <td>0.0</td>\n",
              "      <td>0.0</td>\n",
              "      <td>0.000000</td>\n",
              "      <td>0.000000</td>\n",
              "      <td>0.0</td>\n",
              "      <td>0.0</td>\n",
              "      <td>0.000000</td>\n",
              "      <td>0.0</td>\n",
              "      <td>0.0</td>\n",
              "      <td>0.0</td>\n",
              "      <td>0.000000</td>\n",
              "      <td>0.0</td>\n",
              "      <td>0.0</td>\n",
              "      <td>0.0</td>\n",
              "      <td>0.000000</td>\n",
              "      <td>0.000000</td>\n",
              "      <td>0.0</td>\n",
              "      <td>0.0</td>\n",
              "      <td>0.0</td>\n",
              "      <td>47.033222</td>\n",
              "      <td>51.616280</td>\n",
              "      <td>0.0</td>\n",
              "      <td>0.0</td>\n",
              "      <td>0.0</td>\n",
              "      <td>0.0</td>\n",
              "      <td>0.0</td>\n",
              "      <td>0.0</td>\n",
              "      <td>0.000000</td>\n",
              "      <td>0.000000</td>\n",
              "      <td>0.0</td>\n",
              "      <td>0.0</td>\n",
              "      <td>0.0</td>\n",
              "      <td>0.0</td>\n",
              "      <td>0.0</td>\n",
              "      <td>0.0</td>\n",
              "      <td>51.621521</td>\n",
              "      <td>0.0</td>\n",
              "      <td>0.0</td>\n",
              "      <td>63.549454</td>\n",
              "      <td>0.0</td>\n",
              "      <td>0.0</td>\n",
              "      <td>0</td>\n",
              "    </tr>\n",
              "  </tbody>\n",
              "</table>\n",
              "</div>"
            ],
            "text/plain": [
              "     1    2    3          4    5    6  ...   60   61         62   63   64  result\n",
              "0  0.0  0.0  0.0   0.000000  0.0  0.0  ...  0.0  0.0   0.226400  0.0  0.0       1\n",
              "1  0.0  0.0  0.0  84.282455  0.0  0.0  ...  0.0  0.0  52.143547  0.0  0.0       0\n",
              "2  0.0  0.0  0.0   0.000000  0.0  0.0  ...  0.0  0.0   0.000000  0.0  0.0       1\n",
              "3  0.0  0.0  0.0   0.000000  0.0  0.0  ...  0.0  0.0   0.000000  0.0  0.0       1\n",
              "4  0.0  0.0  0.0  65.541519  0.0  0.0  ...  0.0  0.0  63.549454  0.0  0.0       0\n",
              "\n",
              "[5 rows x 65 columns]"
            ]
          },
          "metadata": {},
          "execution_count": 14
        }
      ]
    },
    {
      "cell_type": "code",
      "metadata": {
        "id": "cMTmJ4RElh9v"
      },
      "source": [
        "X_train = train_df.drop(['result'], axis=1)\n",
        "y_train = train_df.result\n",
        "X_val = valid_df.drop(['result'], axis=1)\n",
        "y_val = valid_df.result\n",
        "X_test = test_df.drop(['result'], axis=1)\n",
        "y_test = test_df.result"
      ],
      "execution_count": null,
      "outputs": []
    },
    {
      "cell_type": "code",
      "source": [
        "from sklearn.preprocessing import StandardScaler\n",
        "from sklearn.experimental import enable_halving_search_cv\n",
        "from sklearn.model_selection import GridSearchCV, HalvingGridSearchCV, PredefinedSplit\n",
        "from sklearn import tree\n",
        "from sklearn import svm\n",
        "from sklearn.ensemble import RandomForestClassifier,AdaBoostClassifier\n",
        "from sklearn.ensemble import VotingClassifier"
      ],
      "metadata": {
        "id": "yEarALMzzsCt"
      },
      "execution_count": null,
      "outputs": []
    },
    {
      "cell_type": "code",
      "metadata": {
        "id": "azB-m06QmPZt"
      },
      "source": [
        "np.random.seed(0)\n",
        "scaler = StandardScaler()\n",
        "X_train = scaler.fit_transform(X_train)\n",
        "X_val = scaler.transform(X_val)\n",
        "X_test = scaler.transform(X_test)"
      ],
      "execution_count": null,
      "outputs": []
    },
    {
      "cell_type": "code",
      "metadata": {
        "id": "7PL-bKUMZyC8"
      },
      "source": [
        "split_index = [-1 if i<5062 else 0 for i in range(6508)]\n",
        "X = np.concatenate((X_train, X_val), axis=0)\n",
        "y = np.concatenate((y_train, y_val), axis=0)\n",
        "pds = PredefinedSplit(test_fold = split_index)"
      ],
      "execution_count": null,
      "outputs": []
    },
    {
      "cell_type": "markdown",
      "source": [
        "### Decision Tree"
      ],
      "metadata": {
        "id": "PLq1XaLw2FVu"
      }
    },
    {
      "cell_type": "code",
      "metadata": {
        "colab": {
          "base_uri": "https://localhost:8080/"
        },
        "id": "xGx-PC8JLIpY",
        "outputId": "0c5224e1-4aca-404e-8f44-1a0d74ff38b4"
      },
      "source": [
        "dt = tree.DecisionTreeClassifier(random_state=0)\n",
        "\n",
        "param_grid = {\n",
        "    'criterion':['gini', 'entropy'],\n",
        "    'max_depth': [10,20,30,40,50],\n",
        "    'max_leaf_nodes': np.arange(2,15,step=1),\n",
        "    'min_samples_leaf': np.arange(2,6,step=1),\n",
        "    'max_features': [2,3,4,5]\n",
        "}\n",
        "dt_clf = GridSearchCV(dt, param_grid, cv=pds)\n",
        "\n",
        "dt_clf.fit(X, y)\n",
        "\n",
        "print(dt_clf.best_params_)\n",
        "preds = dt_clf.predict(X_test)\n",
        "print(classification_report(y_test, preds,digits=4,labels=[1,0], target_names=['Covid', 'Normal']))"
      ],
      "execution_count": null,
      "outputs": [
        {
          "output_type": "stream",
          "name": "stdout",
          "text": [
            "{'criterion': 'gini', 'max_depth': 10, 'max_features': 4, 'max_leaf_nodes': 7, 'min_samples_leaf': 2}\n",
            "              precision    recall  f1-score   support\n",
            "\n",
            "       Covid     0.9635    0.9475    0.9554       362\n",
            "      Normal     0.9484    0.9641    0.9562       362\n",
            "\n",
            "    accuracy                         0.9558       724\n",
            "   macro avg     0.9559    0.9558    0.9558       724\n",
            "weighted avg     0.9559    0.9558    0.9558       724\n",
            "\n"
          ]
        }
      ]
    },
    {
      "cell_type": "code",
      "metadata": {
        "colab": {
          "base_uri": "https://localhost:8080/",
          "height": 312
        },
        "id": "g0wbIueqivCr",
        "outputId": "7d9c565c-d265-4e9c-a660-2b48ca3eb114"
      },
      "source": [
        "cm = ConfusionMatrixDisplay.from_predictions(\n",
        "   y_test, preds, labels=[1,0], display_labels=['Covid', 'Normal'],cmap=plt.cm.Blues)\n",
        "plt.title(\"Decision Tree\")"
      ],
      "execution_count": null,
      "outputs": [
        {
          "output_type": "execute_result",
          "data": {
            "text/plain": [
              "Text(0.5, 1.0, 'Decision Tree')"
            ]
          },
          "metadata": {},
          "execution_count": 54
        },
        {
          "output_type": "display_data",
          "data": {
            "image/png": "[encoded data removed]",
            "text/plain": [
              "<Figure size 432x288 with 2 Axes>"
            ]
          },
          "metadata": {
            "needs_background": "light"
          }
        }
      ]
    },
    {
      "cell_type": "markdown",
      "source": [
        "### SVM"
      ],
      "metadata": {
        "id": "mLCj9XXG2J74"
      }
    },
    {
      "cell_type": "code",
      "metadata": {
        "colab": {
          "base_uri": "https://localhost:8080/"
        },
        "id": "GCs2-s4eLoCN",
        "outputId": "a361bad2-9abe-48dd-def2-cb154ecd9f70"
      },
      "source": [
        "svc = svm.SVC(probability=True,random_state=0)\n",
        "\n",
        "param_grid = {\n",
        "    'C':[1,10,100],\n",
        "    'gamma': [0.1,0.01,0.001],\n",
        "    'kernel': ['rbf', 'poly', 'linear']\n",
        "}\n",
        "svc_clf = GridSearchCV(svc, param_grid, cv=pds)\n",
        "svc_clf.fit(X, y)\n",
        "\n",
        "print(svc_clf.best_params_)\n",
        "preds = svc_clf.predict(X_test)\n",
        "print(classification_report(y_test, preds,digits=4,labels=[1,0], target_names=['Covid', 'Normal']))"
      ],
      "execution_count": null,
      "outputs": [
        {
          "output_type": "stream",
          "name": "stdout",
          "text": [
            "{'C': 100, 'gamma': 0.1, 'kernel': 'poly'}\n",
            "              precision    recall  f1-score   support\n",
            "\n",
            "       Covid     0.9670    0.9724    0.9697       362\n",
            "      Normal     0.9722    0.9669    0.9695       362\n",
            "\n",
            "    accuracy                         0.9696       724\n",
            "   macro avg     0.9696    0.9696    0.9696       724\n",
            "weighted avg     0.9696    0.9696    0.9696       724\n",
            "\n"
          ]
        }
      ]
    },
    {
      "cell_type": "code",
      "source": [
        "cm = ConfusionMatrixDisplay.from_predictions(\n",
        "   y_test, preds, labels=[1,0], display_labels=['Covid', 'Normal'],cmap=plt.cm.Blues)\n",
        "plt.title(\"SVM\")"
      ],
      "metadata": {
        "colab": {
          "base_uri": "https://localhost:8080/",
          "height": 312
        },
        "id": "xYFILS1U6Du0",
        "outputId": "f969c7c1-dec9-4278-b735-527591394ac4"
      },
      "execution_count": null,
      "outputs": [
        {
          "output_type": "execute_result",
          "data": {
            "text/plain": [
              "Text(0.5, 1.0, 'SVM')"
            ]
          },
          "metadata": {},
          "execution_count": 57
        },
        {
          "output_type": "display_data",
          "data": {
            "image/png": "[encoded data removed]",
            "text/plain": [
              "<Figure size 432x288 with 2 Axes>"
            ]
          },
          "metadata": {
            "needs_background": "light"
          }
        }
      ]
    },
    {
      "cell_type": "markdown",
      "source": [
        "### Random Forest"
      ],
      "metadata": {
        "id": "b187Gd7M2Nf6"
      }
    },
    {
      "cell_type": "code",
      "metadata": {
        "colab": {
          "base_uri": "https://localhost:8080/"
        },
        "id": "BMfiyNGHUfk3",
        "outputId": "e4ef7caa-9b76-445d-f571-4fcfedb66b70"
      },
      "source": [
        "rf = RandomForestClassifier(random_state=0)\n",
        "\n",
        "param_grid = {\"max_depth\": [10,20,30],\n",
        "              \"min_samples_split\": [5, 10, 20],\n",
        "              \"criterion\": ['gini','entropy']}\n",
        "rf_clf = HalvingGridSearchCV(rf, param_grid, resource='n_estimators', max_resources=100, cv=pds).fit(X, y)\n",
        "print(rf_clf.best_params_)\n",
        "preds = rf_clf.predict(X_test)\n",
        "print(classification_report(y_test, preds,digits=4,labels=[1,0], target_names=['Covid', 'Normal']))"
      ],
      "execution_count": null,
      "outputs": [
        {
          "output_type": "stream",
          "name": "stdout",
          "text": [
            "{'criterion': 'entropy', 'max_depth': 20, 'min_samples_split': 20, 'n_estimators': 99}\n",
            "              precision    recall  f1-score   support\n",
            "\n",
            "       Covid     0.9721    0.9613    0.9667       362\n",
            "      Normal     0.9617    0.9724    0.9670       362\n",
            "\n",
            "    accuracy                         0.9669       724\n",
            "   macro avg     0.9669    0.9669    0.9668       724\n",
            "weighted avg     0.9669    0.9669    0.9668       724\n",
            "\n"
          ]
        }
      ]
    },
    {
      "cell_type": "code",
      "source": [
        "cm = ConfusionMatrixDisplay.from_predictions(\n",
        "   y_test, preds, labels=[1,0], display_labels=['Covid', 'Normal'],cmap=plt.cm.Blues)\n",
        "plt.title(\"Random Forest\")"
      ],
      "metadata": {
        "colab": {
          "base_uri": "https://localhost:8080/",
          "height": 312
        },
        "id": "ZC_2xg0z6dUe",
        "outputId": "f65924e6-f68a-41ab-bc77-fda162108998"
      },
      "execution_count": null,
      "outputs": [
        {
          "output_type": "execute_result",
          "data": {
            "text/plain": [
              "Text(0.5, 1.0, 'Random Forest')"
            ]
          },
          "metadata": {},
          "execution_count": 59
        },
        {
          "output_type": "display_data",
          "data": {
            "image/png": "[encoded data removed]",
            "text/plain": [
              "<Figure size 432x288 with 2 Axes>"
            ]
          },
          "metadata": {
            "needs_background": "light"
          }
        }
      ]
    },
    {
      "cell_type": "markdown",
      "source": [
        "### AdaBoost"
      ],
      "metadata": {
        "id": "qz8E0OMS2Rn5"
      }
    },
    {
      "cell_type": "code",
      "metadata": {
        "colab": {
          "base_uri": "https://localhost:8080/"
        },
        "id": "3RlY976J6G3o",
        "outputId": "0fcd18f1-f4b3-490a-fcf1-c10958c5e928"
      },
      "source": [
        "ab = AdaBoostClassifier(random_state=0)\n",
        "\n",
        "param_grid = {'n_estimators': np.arange(50,100, 10)}\n",
        "ab_clf = GridSearchCV(ab, param_grid, cv=pds).fit(X, y)\n",
        "\n",
        "print(ab_clf.best_params_)\n",
        "preds = ab_clf.predict(X_test)\n",
        "print(classification_report(y_test, preds,digits=4, labels=[1,0], target_names=['Covid', 'Normal']))"
      ],
      "execution_count": null,
      "outputs": [
        {
          "output_type": "stream",
          "name": "stdout",
          "text": [
            "{'n_estimators': 70}\n",
            "              precision    recall  f1-score   support\n",
            "\n",
            "       Covid     0.9614    0.9641    0.9628       362\n",
            "      Normal     0.9640    0.9613    0.9627       362\n",
            "\n",
            "    accuracy                         0.9627       724\n",
            "   macro avg     0.9627    0.9627    0.9627       724\n",
            "weighted avg     0.9627    0.9627    0.9627       724\n",
            "\n"
          ]
        }
      ]
    },
    {
      "cell_type": "code",
      "source": [
        "cm = ConfusionMatrixDisplay.from_predictions(\n",
        "   y_test, preds, labels=[1,0], display_labels=['Covid', 'Normal'],cmap=plt.cm.Blues)\n",
        "plt.title(\"AdaBoost\")"
      ],
      "metadata": {
        "colab": {
          "base_uri": "https://localhost:8080/",
          "height": 312
        },
        "id": "qnmpR2fu6iuE",
        "outputId": "e3662368-48b6-416a-8bdc-61e17d93c3a9"
      },
      "execution_count": null,
      "outputs": [
        {
          "output_type": "execute_result",
          "data": {
            "text/plain": [
              "Text(0.5, 1.0, 'AdaBoost')"
            ]
          },
          "metadata": {},
          "execution_count": 61
        },
        {
          "output_type": "display_data",
          "data": {
            "image/png": "[encoded data removed]",
            "text/plain": [
              "<Figure size 432x288 with 2 Axes>"
            ]
          },
          "metadata": {
            "needs_background": "light"
          }
        }
      ]
    },
    {
      "cell_type": "markdown",
      "source": [
        "### Ensemble"
      ],
      "metadata": {
        "id": "bgdnhxQT2Xbf"
      }
    },
    {
      "cell_type": "code",
      "metadata": {
        "colab": {
          "base_uri": "https://localhost:8080/"
        },
        "id": "2b4l0gcM_owp",
        "outputId": "6eb55182-6965-44df-ab93-5a6cef2c1800"
      },
      "source": [
        "vcf = VotingClassifier(estimators=[\n",
        "        ('dt', tree.DecisionTreeClassifier(criterion= 'gini', max_depth= 10, max_leaf_nodes=7, min_samples_leaf= 2,max_features=4, random_state=0)), \n",
        "        ('rf', RandomForestClassifier(criterion= 'entropy', max_depth= 20, min_samples_split= 20, n_estimators=99, random_state=0)), \n",
        "        ('svc', svm.SVC(C= 100, gamma= 0.1, kernel= 'poly',probability=True, random_state=0)), \n",
        "        ('ab', AdaBoostClassifier(n_estimators=70, random_state=0))\n",
        "      ])\n",
        "\n",
        "params = {'voting':['soft'], 'weights':[[1,4,3,1],[1,3,2,1],[1,3,4,1],[1,3,3,2]]}\n",
        "vcf_clf = GridSearchCV(vcf, params, cv=pds).fit(X,y)\n",
        "\n",
        "e_preds = vcf_clf.predict(X_test)\n",
        "\n",
        "print(classification_report(y_test, e_preds, digits=4, labels=[1,0], target_names=['Covid', 'Normal']))"
      ],
      "execution_count": null,
      "outputs": [
        {
          "output_type": "stream",
          "name": "stdout",
          "text": [
            "              precision    recall  f1-score   support\n",
            "\n",
            "       Covid     0.9751    0.9751    0.9751       362\n",
            "      Normal     0.9751    0.9751    0.9751       362\n",
            "\n",
            "    accuracy                         0.9751       724\n",
            "   macro avg     0.9751    0.9751    0.9751       724\n",
            "weighted avg     0.9751    0.9751    0.9751       724\n",
            "\n"
          ]
        }
      ]
    },
    {
      "cell_type": "code",
      "source": [
        "cm = ConfusionMatrixDisplay.from_predictions(\n",
        "   y_test, e_preds, labels=[1,0], display_labels=['Covid', 'Normal'],cmap=plt.cm.Blues)\n",
        "plt.title(\"Ensemble\")"
      ],
      "metadata": {
        "colab": {
          "base_uri": "https://localhost:8080/",
          "height": 312
        },
        "id": "cCuayK8U69JD",
        "outputId": "eb55b948-8f93-435a-8737-e67be3e594aa"
      },
      "execution_count": null,
      "outputs": [
        {
          "output_type": "execute_result",
          "data": {
            "text/plain": [
              "Text(0.5, 1.0, 'Ensemble')"
            ]
          },
          "metadata": {},
          "execution_count": 64
        },
        {
          "output_type": "display_data",
          "data": {
            "image/png": "[encoded data removed]",
            "text/plain": [
              "<Figure size 432x288 with 2 Axes>"
            ]
          },
          "metadata": {
            "needs_background": "light"
          }
        }
      ]
    },
    {
      "cell_type": "code",
      "metadata": {
        "id": "9du3L8WS93Gh",
        "colab": {
          "base_uri": "https://localhost:8080/"
        },
        "outputId": "784bffa5-4da0-4e53-ce5c-e00ccf32db1c"
      },
      "source": [
        "vcf_clf.best_params_"
      ],
      "execution_count": null,
      "outputs": [
        {
          "output_type": "execute_result",
          "data": {
            "text/plain": [
              "{'voting': 'soft', 'weights': [1, 4, 3, 1]}"
            ]
          },
          "metadata": {},
          "execution_count": 65
        }
      ]
    }
  ]
}