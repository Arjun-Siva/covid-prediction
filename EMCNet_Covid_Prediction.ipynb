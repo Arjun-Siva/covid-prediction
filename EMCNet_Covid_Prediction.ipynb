{
  "nbformat": 4,
  "nbformat_minor": 0,
  "metadata": {
    "colab": {
      "name": "EMCNet - Covid Prediction.ipynb",
      "provenance": [],
      "collapsed_sections": [],
      "authorship_tag": "ABX9TyPGiWuIs4JAVPqDQWuySLYZ"
    },
    "kernelspec": {
      "name": "python3",
      "display_name": "Python 3"
    },
    "language_info": {
      "name": "python"
    },
    "accelerator": "GPU"
  },
  "cells": [
    {
      "cell_type": "code",
      "metadata": {
        "colab": {
          "base_uri": "https://localhost:8080/"
        },
        "id": "5qY8ut4V21NA",
        "outputId": "c3b8440d-13d7-4ae9-c7c1-18fbef958afc"
      },
      "source": [
        "from google.colab import drive\n",
        "import os\n",
        "import itertools\n",
        "import shutil\n",
        "import random\n",
        "import glob\n",
        "import warnings\n",
        "warnings.simplefilter(action='ignore', category=FutureWarning)\n",
        "drive.mount('/content/drive')"
      ],
      "execution_count": null,
      "outputs": [
        {
          "output_type": "stream",
          "name": "stdout",
          "text": [
            "Mounted at /content/drive\n"
          ]
        }
      ]
    },
    {
      "cell_type": "code",
      "metadata": {
        "id": "KZQchi4R29Mu"
      },
      "source": [
        "from google.colab import files\n",
        "import pandas as pd\n",
        "import matplotlib.pyplot as plt\n",
        "import seaborn as sns\n",
        "import numpy as np\n",
        "from sklearn.metrics import classification_report, confusion_matrix\n",
        "from tensorflow.keras.models import Sequential\n",
        "from tensorflow.keras.layers import Activation, Dense, Flatten, Dropout, Conv2D, MaxPool2D\n",
        "from tensorflow.keras.optimizers import Adam\n",
        "from tensorflow.keras.metrics import categorical_crossentropy\n",
        "from tensorflow.keras.preprocessing.image import ImageDataGenerator\n",
        "from sklearn.metrics import confusion_matrix\n",
        "from tensorflow.keras.preprocessing import image\n",
        "from tensorflow.keras.models import load_model"
      ],
      "execution_count": null,
      "outputs": []
    },
    {
      "cell_type": "code",
      "metadata": {
        "colab": {
          "base_uri": "https://localhost:8080/"
        },
        "id": "QntahDJU3M59",
        "outputId": "ab7c4e65-b036-4224-fab5-f7f45e8bf469"
      },
      "source": [
        "%cd /content/drive/MyDrive/Dataset/"
      ],
      "execution_count": null,
      "outputs": [
        {
          "output_type": "stream",
          "name": "stdout",
          "text": [
            "/content/drive/MyDrive/Dataset\n"
          ]
        }
      ]
    },
    {
      "cell_type": "code",
      "metadata": {
        "id": "UFamzhzsJXJ1"
      },
      "source": [
        "! unzip covid19-radiography-database"
      ],
      "execution_count": null,
      "outputs": []
    },
    {
      "cell_type": "code",
      "metadata": {
        "id": "TAROCCNGJZbB"
      },
      "source": [
        "if os.path.isdir('data/train/covid') is False:\n",
        "  os.makedirs('data/train/normal')\n",
        "  os.makedirs('data/train/covid')\n",
        "  os.makedirs('data/test/normal')\n",
        "  os.makedirs('data/test/covid')\n",
        "  os.makedirs('data/valid/normal')\n",
        "  os.makedirs('data/valid/covid')"
      ],
      "execution_count": null,
      "outputs": []
    },
    {
      "cell_type": "code",
      "metadata": {
        "id": "fGuy5U3WKzZw"
      },
      "source": [
        "os.chdir('/content/drive/My Drive/Dataset/COVID-19_Radiography_Dataset/COVID')"
      ],
      "execution_count": null,
      "outputs": []
    },
    {
      "cell_type": "code",
      "metadata": {
        "id": "KXLILu5GK49H"
      },
      "source": [
        "for c in random.sample(glob.glob('COVID-*'), 2531):\n",
        "  shutil.move(c, '../../data/train/covid')\n",
        "\n",
        "for c in random.sample(glob.glob('COVID-*'), 723):\n",
        "  shutil.move(c, '../../data/valid/covid')\n",
        "\n",
        "for c in random.sample(glob.glob('COVID-*'), 362):\n",
        "  shutil.move(c, '../../data/test/covid')"
      ],
      "execution_count": null,
      "outputs": []
    },
    {
      "cell_type": "code",
      "metadata": {
        "id": "idjZ_Wy6MCgO"
      },
      "source": [
        "os.chdir('/content/drive/My Drive/Dataset/COVID-19_Radiography_Dataset/Normal')"
      ],
      "execution_count": null,
      "outputs": []
    },
    {
      "cell_type": "code",
      "metadata": {
        "id": "QWW_X3UZMDHu"
      },
      "source": [
        "for c in random.sample(glob.glob('Normal-*'), 2531):\n",
        "  shutil.move(c, '../../data/train/normal')\n",
        "\n",
        "for c in random.sample(glob.glob('Normal-*'), 723):\n",
        "  shutil.move(c, '../../data/valid/normal')\n",
        "\n",
        "for c in random.sample(glob.glob('Normal-*'), 362):\n",
        "  shutil.move(c, '../../data/test/normal')"
      ],
      "execution_count": null,
      "outputs": []
    },
    {
      "cell_type": "code",
      "metadata": {
        "id": "1-d59WhWNyHq"
      },
      "source": [
        "os.chdir('/content/drive/My Drive/Dataset/')"
      ],
      "execution_count": null,
      "outputs": []
    },
    {
      "cell_type": "code",
      "metadata": {
        "id": "CPLvL_ekOBZB"
      },
      "source": [
        "train_path = '/content/drive/My Drive/Dataset/data/train'\n",
        "valid_path = '/content/drive/My Drive/Dataset/data/valid'\n",
        "test_path =  '/content/drive/My Drive/Dataset/data/test'"
      ],
      "execution_count": null,
      "outputs": []
    },
    {
      "cell_type": "code",
      "metadata": {
        "colab": {
          "base_uri": "https://localhost:8080/"
        },
        "id": "UL1DWjCkORkD",
        "outputId": "443df9dc-ad85-4729-a324-2102edc64fc2"
      },
      "source": [
        "train_gen = ImageDataGenerator(rescale=1.0/255.0).flow_from_directory(directory=train_path, target_size=(299, 299), classes=['covid','normal'])\n",
        "valid_gen = ImageDataGenerator(rescale=1.0/255.0).flow_from_directory(directory=valid_path, target_size=(299, 299), classes=['covid','normal'])\n",
        "test_gen = ImageDataGenerator(rescale=1.0/255.0).flow_from_directory(directory=test_path, target_size=(299, 299), classes=['covid','normal'], shuffle=False)"
      ],
      "execution_count": null,
      "outputs": [
        {
          "output_type": "stream",
          "name": "stdout",
          "text": [
            "Found 5062 images belonging to 2 classes.\n",
            "Found 1446 images belonging to 2 classes.\n",
            "Found 724 images belonging to 2 classes.\n"
          ]
        }
      ]
    },
    {
      "cell_type": "code",
      "metadata": {
        "id": "MDgNsW7ROdeI"
      },
      "source": [
        "model = Sequential()\n",
        "\n",
        "model.add(Conv2D(filters=32, kernel_size=(3,3), input_shape=(299,299,3), activation='relu'))\n",
        "model.add(Conv2D(filters=128, kernel_size=(3,3), activation='relu'))\n",
        "model.add(MaxPool2D(pool_size=(2,2),strides=2))\n",
        "model.add(Dropout(0.25))\n",
        "\n",
        "model.add(Conv2D(filters=64, kernel_size=(3,3), activation='relu'))\n",
        "model.add(MaxPool2D(pool_size=(2,2),strides=2))\n",
        "model.add(Dropout(0.25))\n",
        "\n",
        "model.add(Conv2D(filters=128, kernel_size=(3,3), activation='relu'))\n",
        "model.add(MaxPool2D(pool_size=(2,2),strides=2))\n",
        "model.add(Dropout(0.25))\n",
        "\n",
        "model.add(Conv2D(filters=512, kernel_size=(3,3), activation='relu'))\n",
        "model.add(MaxPool2D(pool_size=(2,2),strides=2))\n",
        "model.add(Dropout(0.25))\n",
        "\n",
        "model.add(Conv2D(filters=512, kernel_size=(3,3), activation='relu'))\n",
        "model.add(MaxPool2D(pool_size=(2,2),strides=2))\n",
        "model.add(Dropout(0.25))\n",
        "\n",
        "model.add(Flatten())\n",
        "\n",
        "\n",
        "model.add(Dense(64, activation='relu'))\n",
        "model.add(Dropout(0.25))\n",
        "\n",
        "model.add(Dense(2, activation='softmax'))\n",
        "\n",
        "model.compile(loss='categorical_crossentropy', optimizer='adam',\n",
        "             metrics=['accuracy'])"
      ],
      "execution_count": null,
      "outputs": []
    },
    {
      "cell_type": "code",
      "metadata": {
        "colab": {
          "base_uri": "https://localhost:8080/"
        },
        "id": "QxMiT2bUPuQG",
        "outputId": "4860a722-d4f6-418b-a06c-6f27d4a51362"
      },
      "source": [
        "model.summary()"
      ],
      "execution_count": null,
      "outputs": [
        {
          "output_type": "stream",
          "name": "stdout",
          "text": [
            "Model: \"sequential\"\n",
            "_________________________________________________________________\n",
            " Layer (type)                Output Shape              Param #   \n",
            "=================================================================\n",
            " conv2d (Conv2D)             (None, 297, 297, 32)      896       \n",
            "                                                                 \n",
            " conv2d_1 (Conv2D)           (None, 295, 295, 128)     36992     \n",
            "                                                                 \n",
            " max_pooling2d (MaxPooling2D  (None, 147, 147, 128)    0         \n",
            " )                                                               \n",
            "                                                                 \n",
            " dropout (Dropout)           (None, 147, 147, 128)     0         \n",
            "                                                                 \n",
            " conv2d_2 (Conv2D)           (None, 145, 145, 64)      73792     \n",
            "                                                                 \n",
            " max_pooling2d_1 (MaxPooling  (None, 72, 72, 64)       0         \n",
            " 2D)                                                             \n",
            "                                                                 \n",
            " dropout_1 (Dropout)         (None, 72, 72, 64)        0         \n",
            "                                                                 \n",
            " conv2d_3 (Conv2D)           (None, 70, 70, 128)       73856     \n",
            "                                                                 \n",
            " max_pooling2d_2 (MaxPooling  (None, 35, 35, 128)      0         \n",
            " 2D)                                                             \n",
            "                                                                 \n",
            " dropout_2 (Dropout)         (None, 35, 35, 128)       0         \n",
            "                                                                 \n",
            " conv2d_4 (Conv2D)           (None, 33, 33, 512)       590336    \n",
            "                                                                 \n",
            " max_pooling2d_3 (MaxPooling  (None, 16, 16, 512)      0         \n",
            " 2D)                                                             \n",
            "                                                                 \n",
            " dropout_3 (Dropout)         (None, 16, 16, 512)       0         \n",
            "                                                                 \n",
            " conv2d_5 (Conv2D)           (None, 14, 14, 512)       2359808   \n",
            "                                                                 \n",
            " max_pooling2d_4 (MaxPooling  (None, 7, 7, 512)        0         \n",
            " 2D)                                                             \n",
            "                                                                 \n",
            " dropout_4 (Dropout)         (None, 7, 7, 512)         0         \n",
            "                                                                 \n",
            " flatten (Flatten)           (None, 25088)             0         \n",
            "                                                                 \n",
            " dense (Dense)               (None, 64)                1605696   \n",
            "                                                                 \n",
            " dropout_5 (Dropout)         (None, 64)                0         \n",
            "                                                                 \n",
            " dense_1 (Dense)             (None, 2)                 130       \n",
            "                                                                 \n",
            "=================================================================\n",
            "Total params: 4,741,506\n",
            "Trainable params: 4,741,506\n",
            "Non-trainable params: 0\n",
            "_________________________________________________________________\n"
          ]
        }
      ]
    },
    {
      "cell_type": "code",
      "metadata": {
        "colab": {
          "base_uri": "https://localhost:8080/"
        },
        "id": "oGzPvKXjPw1c",
        "outputId": "e9569d2e-4dd5-40ab-9c3c-5ccceb4e440d"
      },
      "source": [
        "model.fit(\n",
        "    x=train_gen,\n",
        "    validation_data=valid_gen,\n",
        "    epochs=50)"
      ],
      "execution_count": null,
      "outputs": [
        {
          "output_type": "stream",
          "name": "stdout",
          "text": [
            "Epoch 1/50\n",
            "159/159 [==============================] - 1291s 8s/step - loss: 0.6871 - accuracy: 0.5603 - val_loss: 0.6320 - val_accuracy: 0.6971\n",
            "Epoch 2/50\n",
            "159/159 [==============================] - 124s 781ms/step - loss: 0.5734 - accuracy: 0.7049 - val_loss: 0.4983 - val_accuracy: 0.7898\n",
            "Epoch 3/50\n",
            "159/159 [==============================] - 124s 781ms/step - loss: 0.4212 - accuracy: 0.8242 - val_loss: 0.3182 - val_accuracy: 0.8700\n",
            "Epoch 4/50\n",
            "159/159 [==============================] - 124s 781ms/step - loss: 0.3474 - accuracy: 0.8609 - val_loss: 0.2627 - val_accuracy: 0.9025\n",
            "Epoch 5/50\n",
            "159/159 [==============================] - 124s 781ms/step - loss: 0.2733 - accuracy: 0.8888 - val_loss: 0.2251 - val_accuracy: 0.9225\n",
            "Epoch 6/50\n",
            "159/159 [==============================] - 124s 780ms/step - loss: 0.2461 - accuracy: 0.9038 - val_loss: 0.2234 - val_accuracy: 0.9122\n",
            "Epoch 7/50\n",
            "159/159 [==============================] - 124s 780ms/step - loss: 0.2021 - accuracy: 0.9226 - val_loss: 0.1920 - val_accuracy: 0.9156\n",
            "Epoch 8/50\n",
            "159/159 [==============================] - 124s 780ms/step - loss: 0.1853 - accuracy: 0.9295 - val_loss: 0.2016 - val_accuracy: 0.9371\n",
            "Epoch 9/50\n",
            "159/159 [==============================] - 124s 780ms/step - loss: 0.1628 - accuracy: 0.9419 - val_loss: 0.1506 - val_accuracy: 0.9426\n",
            "Epoch 10/50\n",
            "159/159 [==============================] - 124s 780ms/step - loss: 0.1395 - accuracy: 0.9480 - val_loss: 0.1343 - val_accuracy: 0.9530\n",
            "Epoch 11/50\n",
            "159/159 [==============================] - 124s 780ms/step - loss: 0.1337 - accuracy: 0.9502 - val_loss: 0.1439 - val_accuracy: 0.9447\n",
            "Epoch 12/50\n",
            "159/159 [==============================] - 124s 780ms/step - loss: 0.1123 - accuracy: 0.9595 - val_loss: 0.1716 - val_accuracy: 0.9433\n",
            "Epoch 13/50\n",
            "159/159 [==============================] - 124s 781ms/step - loss: 0.1010 - accuracy: 0.9642 - val_loss: 0.1525 - val_accuracy: 0.9509\n",
            "Epoch 14/50\n",
            "159/159 [==============================] - 124s 779ms/step - loss: 0.1048 - accuracy: 0.9613 - val_loss: 0.1607 - val_accuracy: 0.9412\n",
            "Epoch 15/50\n",
            "159/159 [==============================] - 124s 779ms/step - loss: 0.0934 - accuracy: 0.9670 - val_loss: 0.1495 - val_accuracy: 0.9530\n",
            "Epoch 16/50\n",
            "159/159 [==============================] - 124s 780ms/step - loss: 0.0881 - accuracy: 0.9656 - val_loss: 0.1520 - val_accuracy: 0.9488\n",
            "Epoch 17/50\n",
            "159/159 [==============================] - 124s 780ms/step - loss: 0.0858 - accuracy: 0.9668 - val_loss: 0.1433 - val_accuracy: 0.9523\n",
            "Epoch 18/50\n",
            "159/159 [==============================] - 124s 781ms/step - loss: 0.0823 - accuracy: 0.9710 - val_loss: 0.1537 - val_accuracy: 0.9544\n",
            "Epoch 19/50\n",
            "159/159 [==============================] - 124s 781ms/step - loss: 0.0709 - accuracy: 0.9767 - val_loss: 0.1646 - val_accuracy: 0.9481\n",
            "Epoch 20/50\n",
            "159/159 [==============================] - 124s 781ms/step - loss: 0.0682 - accuracy: 0.9779 - val_loss: 0.1408 - val_accuracy: 0.9544\n",
            "Epoch 21/50\n",
            "159/159 [==============================] - 124s 781ms/step - loss: 0.0608 - accuracy: 0.9771 - val_loss: 0.1706 - val_accuracy: 0.9474\n",
            "Epoch 22/50\n",
            "159/159 [==============================] - 124s 781ms/step - loss: 0.0787 - accuracy: 0.9759 - val_loss: 0.1279 - val_accuracy: 0.9530\n",
            "Epoch 23/50\n",
            "159/159 [==============================] - 124s 780ms/step - loss: 0.0811 - accuracy: 0.9704 - val_loss: 0.1515 - val_accuracy: 0.9571\n",
            "Epoch 24/50\n",
            "159/159 [==============================] - 124s 781ms/step - loss: 0.0511 - accuracy: 0.9820 - val_loss: 0.1770 - val_accuracy: 0.9537\n",
            "Epoch 25/50\n",
            "159/159 [==============================] - 124s 781ms/step - loss: 0.0586 - accuracy: 0.9810 - val_loss: 0.1507 - val_accuracy: 0.9599\n",
            "Epoch 26/50\n",
            "159/159 [==============================] - 124s 780ms/step - loss: 0.0365 - accuracy: 0.9866 - val_loss: 0.1869 - val_accuracy: 0.9564\n",
            "Epoch 27/50\n",
            "159/159 [==============================] - 124s 780ms/step - loss: 0.0436 - accuracy: 0.9848 - val_loss: 0.1417 - val_accuracy: 0.9585\n",
            "Epoch 28/50\n",
            "159/159 [==============================] - 124s 780ms/step - loss: 0.0318 - accuracy: 0.9881 - val_loss: 0.1263 - val_accuracy: 0.9627\n",
            "Epoch 29/50\n",
            "159/159 [==============================] - 124s 780ms/step - loss: 0.0449 - accuracy: 0.9828 - val_loss: 0.1669 - val_accuracy: 0.9557\n",
            "Epoch 30/50\n",
            "159/159 [==============================] - 124s 779ms/step - loss: 0.0488 - accuracy: 0.9856 - val_loss: 0.1385 - val_accuracy: 0.9578\n",
            "Epoch 31/50\n",
            "159/159 [==============================] - 124s 779ms/step - loss: 0.0519 - accuracy: 0.9828 - val_loss: 0.1650 - val_accuracy: 0.9613\n",
            "Epoch 32/50\n",
            "159/159 [==============================] - 124s 779ms/step - loss: 0.0414 - accuracy: 0.9828 - val_loss: 0.1457 - val_accuracy: 0.9613\n",
            "Epoch 33/50\n",
            "159/159 [==============================] - 124s 779ms/step - loss: 0.0367 - accuracy: 0.9879 - val_loss: 0.1477 - val_accuracy: 0.9599\n",
            "Epoch 34/50\n",
            "159/159 [==============================] - 124s 779ms/step - loss: 0.0372 - accuracy: 0.9870 - val_loss: 0.2215 - val_accuracy: 0.9606\n",
            "Epoch 35/50\n",
            "159/159 [==============================] - 124s 779ms/step - loss: 0.0357 - accuracy: 0.9895 - val_loss: 0.2295 - val_accuracy: 0.9550\n",
            "Epoch 36/50\n",
            "159/159 [==============================] - 124s 780ms/step - loss: 0.0289 - accuracy: 0.9893 - val_loss: 0.2064 - val_accuracy: 0.9550\n",
            "Epoch 37/50\n",
            "159/159 [==============================] - 124s 779ms/step - loss: 0.0417 - accuracy: 0.9870 - val_loss: 0.1655 - val_accuracy: 0.9585\n",
            "Epoch 38/50\n",
            "159/159 [==============================] - 124s 779ms/step - loss: 0.0288 - accuracy: 0.9915 - val_loss: 0.1698 - val_accuracy: 0.9550\n",
            "Epoch 39/50\n",
            "159/159 [==============================] - 124s 779ms/step - loss: 0.0364 - accuracy: 0.9876 - val_loss: 0.2219 - val_accuracy: 0.9544\n",
            "Epoch 40/50\n",
            "159/159 [==============================] - 124s 779ms/step - loss: 0.0403 - accuracy: 0.9872 - val_loss: 0.1339 - val_accuracy: 0.9668\n",
            "Epoch 41/50\n",
            "159/159 [==============================] - 124s 779ms/step - loss: 0.0244 - accuracy: 0.9917 - val_loss: 0.1838 - val_accuracy: 0.9620\n",
            "Epoch 42/50\n",
            "159/159 [==============================] - 124s 779ms/step - loss: 0.0206 - accuracy: 0.9933 - val_loss: 0.2736 - val_accuracy: 0.9613\n",
            "Epoch 43/50\n",
            "159/159 [==============================] - 124s 779ms/step - loss: 0.0320 - accuracy: 0.9913 - val_loss: 0.1405 - val_accuracy: 0.9675\n",
            "Epoch 44/50\n",
            "159/159 [==============================] - 124s 780ms/step - loss: 0.0255 - accuracy: 0.9895 - val_loss: 0.1511 - val_accuracy: 0.9682\n",
            "Epoch 45/50\n",
            "159/159 [==============================] - 124s 778ms/step - loss: 0.0303 - accuracy: 0.9891 - val_loss: 0.3017 - val_accuracy: 0.9509\n",
            "Epoch 46/50\n",
            "159/159 [==============================] - 124s 778ms/step - loss: 0.0309 - accuracy: 0.9891 - val_loss: 0.1637 - val_accuracy: 0.9668\n",
            "Epoch 47/50\n",
            "159/159 [==============================] - 124s 780ms/step - loss: 0.0754 - accuracy: 0.9747 - val_loss: 0.1411 - val_accuracy: 0.9640\n",
            "Epoch 48/50\n",
            "159/159 [==============================] - 124s 780ms/step - loss: 0.0410 - accuracy: 0.9881 - val_loss: 0.1645 - val_accuracy: 0.9578\n",
            "Epoch 49/50\n",
            "159/159 [==============================] - 124s 779ms/step - loss: 0.0189 - accuracy: 0.9943 - val_loss: 0.2184 - val_accuracy: 0.9578\n",
            "Epoch 50/50\n",
            "159/159 [==============================] - 124s 780ms/step - loss: 0.0230 - accuracy: 0.9923 - val_loss: 0.1766 - val_accuracy: 0.9647\n"
          ]
        },
        {
          "output_type": "execute_result",
          "data": {
            "text/plain": [
              "<keras.callbacks.History at 0x7f39dd3c1e90>"
            ]
          },
          "metadata": {},
          "execution_count": 8
        }
      ]
    },
    {
      "cell_type": "code",
      "metadata": {
        "id": "is6K7nTYBMyE"
      },
      "source": [
        "metrics = pd.DataFrame(model.history.history)"
      ],
      "execution_count": null,
      "outputs": []
    },
    {
      "cell_type": "code",
      "metadata": {
        "id": "KYWaVdcNGJbx"
      },
      "source": [
        "if os.path.isdir('data/dataframes') is False:\n",
        "  os.makedirs('data/dataframes')\n",
        "\n",
        "if os.path.isdir('data/models') is False:\n",
        "  os.makedirs('data/models')"
      ],
      "execution_count": null,
      "outputs": []
    },
    {
      "cell_type": "code",
      "metadata": {
        "id": "mP3kEeDRDbCY"
      },
      "source": [
        "metrics.to_csv('data/dataframes/metrics.csv', index=False)\n",
        "model.save('data/models/cnn_model.h5')"
      ],
      "execution_count": null,
      "outputs": []
    },
    {
      "cell_type": "code",
      "metadata": {
        "colab": {
          "base_uri": "https://localhost:8080/",
          "height": 17
        },
        "id": "ca9c_aZKD8AW",
        "outputId": "f799cd8d-fa32-4108-c6f9-03e3d15601ed"
      },
      "source": [
        "files.download('data/dataframes/metrics.csv')\n",
        "files.download('data/models/cnn_model.h5')"
      ],
      "execution_count": null,
      "outputs": [
        {
          "output_type": "display_data",
          "data": {
            "application/javascript": [
              "\n",
              "    async function download(id, filename, size) {\n",
              "      if (!google.colab.kernel.accessAllowed) {\n",
              "        return;\n",
              "      }\n",
              "      const div = document.createElement('div');\n",
              "      const label = document.createElement('label');\n",
              "      label.textContent = `Downloading \"${filename}\": `;\n",
              "      div.appendChild(label);\n",
              "      const progress = document.createElement('progress');\n",
              "      progress.max = size;\n",
              "      div.appendChild(progress);\n",
              "      document.body.appendChild(div);\n",
              "\n",
              "      const buffers = [];\n",
              "      let downloaded = 0;\n",
              "\n",
              "      const channel = await google.colab.kernel.comms.open(id);\n",
              "      // Send a message to notify the kernel that we're ready.\n",
              "      channel.send({})\n",
              "\n",
              "      for await (const message of channel.messages) {\n",
              "        // Send a message to notify the kernel that we're ready.\n",
              "        channel.send({})\n",
              "        if (message.buffers) {\n",
              "          for (const buffer of message.buffers) {\n",
              "            buffers.push(buffer);\n",
              "            downloaded += buffer.byteLength;\n",
              "            progress.value = downloaded;\n",
              "          }\n",
              "        }\n",
              "      }\n",
              "      const blob = new Blob(buffers, {type: 'application/binary'});\n",
              "      const a = document.createElement('a');\n",
              "      a.href = window.URL.createObjectURL(blob);\n",
              "      a.download = filename;\n",
              "      div.appendChild(a);\n",
              "      a.click();\n",
              "      div.remove();\n",
              "    }\n",
              "  "
            ],
            "text/plain": [
              "<IPython.core.display.Javascript object>"
            ]
          },
          "metadata": {}
        },
        {
          "output_type": "display_data",
          "data": {
            "application/javascript": [
              "download(\"download_81c9b69c-2025-4ec5-b30b-d0b442d0f458\", \"metrics.csv\", 3904)"
            ],
            "text/plain": [
              "<IPython.core.display.Javascript object>"
            ]
          },
          "metadata": {}
        },
        {
          "output_type": "display_data",
          "data": {
            "application/javascript": [
              "\n",
              "    async function download(id, filename, size) {\n",
              "      if (!google.colab.kernel.accessAllowed) {\n",
              "        return;\n",
              "      }\n",
              "      const div = document.createElement('div');\n",
              "      const label = document.createElement('label');\n",
              "      label.textContent = `Downloading \"${filename}\": `;\n",
              "      div.appendChild(label);\n",
              "      const progress = document.createElement('progress');\n",
              "      progress.max = size;\n",
              "      div.appendChild(progress);\n",
              "      document.body.appendChild(div);\n",
              "\n",
              "      const buffers = [];\n",
              "      let downloaded = 0;\n",
              "\n",
              "      const channel = await google.colab.kernel.comms.open(id);\n",
              "      // Send a message to notify the kernel that we're ready.\n",
              "      channel.send({})\n",
              "\n",
              "      for await (const message of channel.messages) {\n",
              "        // Send a message to notify the kernel that we're ready.\n",
              "        channel.send({})\n",
              "        if (message.buffers) {\n",
              "          for (const buffer of message.buffers) {\n",
              "            buffers.push(buffer);\n",
              "            downloaded += buffer.byteLength;\n",
              "            progress.value = downloaded;\n",
              "          }\n",
              "        }\n",
              "      }\n",
              "      const blob = new Blob(buffers, {type: 'application/binary'});\n",
              "      const a = document.createElement('a');\n",
              "      a.href = window.URL.createObjectURL(blob);\n",
              "      a.download = filename;\n",
              "      div.appendChild(a);\n",
              "      a.click();\n",
              "      div.remove();\n",
              "    }\n",
              "  "
            ],
            "text/plain": [
              "<IPython.core.display.Javascript object>"
            ]
          },
          "metadata": {}
        },
        {
          "output_type": "display_data",
          "data": {
            "application/javascript": [
              "download(\"download_d70416e6-e1e8-41db-9e55-b336225ac74d\", \"cnn_model.h5\", 56985680)"
            ],
            "text/plain": [
              "<IPython.core.display.Javascript object>"
            ]
          },
          "metadata": {}
        }
      ]
    },
    {
      "cell_type": "code",
      "metadata": {
        "id": "aY1JpWJFFK4S"
      },
      "source": [
        ""
      ],
      "execution_count": null,
      "outputs": []
    }
  ]
}